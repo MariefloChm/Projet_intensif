{
 "cells": [
  {
   "cell_type": "markdown",
   "metadata": {},
   "source": [
    "### Création dataset"
   ]
  },
  {
   "cell_type": "code",
   "execution_count": 2,
   "metadata": {},
   "outputs": [],
   "source": [
    "import pandas as pd\n",
    "import random\n",
    "import numpy as np\n",
    "\n",
    "def generate_user_data(profil,n_rows):\n",
    "    # Créer des listes de domaines de diplômes, compétences, objectifs et métiers associés\n",
    "    domaines = [\n",
    "        \"Informatique\",\n",
    "        \"Finance\",\n",
    "        \"Psychologie\",\n",
    "        \"Marketing\",\n",
    "        \"Gestion\",\n",
    "        \"Médecine\",\n",
    "        \"Ressources Humaines\",\n",
    "        \"Art\",\n",
    "        \"Éducation\",\n",
    "        \"Ingénierie\",\n",
    "        # Ajoutez ici d'autres domaines de diplômes\n",
    "    ]\n",
    "\n",
    "    diplomes_par_domaine = {\n",
    "        \"Informatique\": [\"Licence en Informatique\", \"Master en Informatique\", \"Doctorat en Informatique\", \"Ingénieur en Informatique\", \"BTS en Informatique\"],\n",
    "        \"Finance\": [\"Licence en Finance\", \"Master en Finance\", \"Doctorat en Finance\", \"MBA en Finance\", \"BTS en Finance\"],\n",
    "        \"Psychologie\": [\"Licence en Psychologie\", \"Master en Psychologie\", \"Doctorat en Psychologie\", \"BTS en Psychologie\", \"Certificat en Psychologie\"],\n",
    "        \"Marketing\": [\"Licence en Marketing\", \"Master en Marketing\", \"Doctorat en Marketing\", \"BTS en Marketing\", \"Certificat en Marketing\"],\n",
    "        \"Gestion\": [\"Licence en Gestion\", \"Master en Gestion\", \"Doctorat en Gestion\", \"MBA en Gestion\", \"BTS en Gestion\"],\n",
    "        \"Médecine\": [\"Doctorat en Médecine\", \"Internat en Médecine\", \"DES en Médecine\", \"DFASM en Médecine\", \"Pharmacie\"],\n",
    "        \"Ressources Humaines\": [\"Licence en Ressources Humaines\", \"Master en Ressources Humaines\", \"Doctorat en Ressources Humaines\", \"BTS en Ressources Humaines\", \"Certificat en Ressources Humaines\"],\n",
    "        \"Art\": [\"Licence en Arts Plastiques\", \"Master en Arts Numériques\", \"Diplôme en Sculpture\", \"BTS en Design Graphique\", \"Certificat en Peinture\"],\n",
    "        \"Éducation\": [\"Licence en Sciences de l'Éducation\", \"Master en Pédagogie\", \"Doctorat en Éducation\", \"BTS en Éducation\", \"Certificat en Didactique\"],\n",
    "        \"Ingénierie\": [\"Diplôme d'Ingénieur\", \"Master en Ingénierie\", \"Doctorat en Ingénierie\", \"BTS en Ingénierie\", \"Certificat en Ingénierie\"],\n",
    "        # Ajoutez ici d'autres diplômes par domaine\n",
    "    }\n",
    "\n",
    "    competences_par_domaine = {\n",
    "        \"Informatique\": [\"Programmation\", \"Analyse de données\", \"Sécurité informatique\", \"Développement web\"],\n",
    "        \"Finance\": [\"Analyse financière\", \"Gestion de portefeuille\", \"Comptabilité\", \"Marchés financiers\"],\n",
    "        \"Psychologie\": [\"Psychothérapie\", \"Évaluation psychologique\", \"Conseil en orientation professionnelle\", \"Psychologie de l'enfance\"],\n",
    "        \"Marketing\": [\"Marketing stratégique\", \"Analyse de marché\", \"Publicité\", \"Gestion de campagnes\"],\n",
    "        \"Gestion\": [\"Gestion de projet\", \"Gestion des ressources humaines\", \"Gestion financière\", \"Stratégie d'entreprise\"],\n",
    "        \"Médecine\": [\"Médecine interne\", \"Chirurgie\", \"Pédiatrie\", \"Gynécologie\"],\n",
    "        \"Ressources Humaines\": [\"Gestion des talents\", \"Formation\", \"Recrutement\", \"Relations de travail\"],\n",
    "        \"Art\": [\"Peinture\", \"Sculpture\", \"Arts numériques\", \"Design graphique\"],\n",
    "        \"Éducation\": [\"Pédagogie\", \"Psychologie de l'éducation\", \"Éducation spécialisée\", \"Didactique\"],\n",
    "        \"Ingénierie\": [\"Ingénierie mécanique\", \"Ingénierie électrique\", \"Ingénierie logicielle\", \"Ingénierie civile\"],\n",
    "        # Ajoutez ici d'autres domaines de compétences\n",
    "    }\n",
    "\n",
    "\n",
    "    objectifs_par_domaine = {\n",
    "        \"Informatique\": {\n",
    "            \"Mentor\": [\"Devenir expert en IA\", \"Créer des applications web\", \"Travailler en cybersécurité\"],\n",
    "            \"Mentoré\": [\"Apprendre la programmation\", \"Comprendre l'analyse de données\", \"Développer des compétences en développement web\"],\n",
    "        },\n",
    "        \"Finance\": {\n",
    "            \"Mentor\": [\"Devenir analyste financier senior\", \"Gérer des portefeuilles d'investissement complexes\"],\n",
    "            \"Mentoré\": [\"Acquérir des compétences en analyse financière\", \"Apprendre les bases de la comptabilité\"],\n",
    "        },\n",
    "        \"Psychologie\": {\n",
    "            \"Mentor\": [\"Devenir psychologue clinicien renommé\", \"Faire de la recherche en psychologie\"],\n",
    "            \"Mentoré\": [\"Développer des compétences en conseil en orientation\", \"Comprendre la psychologie de l'enfance\"],\n",
    "        },\n",
    "        \"Marketing\": {\n",
    "            \"Mentor\": [\"Devenir responsable marketing stratégique\", \"Gérer des campagnes publicitaires de grande envergure\"],\n",
    "            \"Mentoré\": [\"Apprendre les bases du marketing\", \"Comprendre l'analyse de marché\"],\n",
    "        },\n",
    "        \"Gestion\": {\n",
    "            \"Mentor\": [\"Devenir directeur général d'une grande entreprise\", \"Gérer des projets internationaux\"],\n",
    "            \"Mentoré\": [\"Apprendre les principes de gestion de projet\", \"Développer des compétences en gestion des ressources humaines\"],\n",
    "        },\n",
    "        \"Médecine\": {\n",
    "            \"Mentor\": [\"Devenir spécialiste en chirurgie\", \"Pratiquer la médecine pédiatrique\"],\n",
    "            \"Mentoré\": [\"Apprendre les bases de la médecine interne\", \"Comprendre la gynécologie\"],\n",
    "        },\n",
    "        \"Ressources Humaines\": {\n",
    "            \"Mentor\": [\"Devenir expert en gestion des talents\", \"Former le personnel dans de grandes organisations\"],\n",
    "            \"Mentoré\": [\"Acquérir des compétences en recrutement\", \"Comprendre la gestion des conflits au travail\"],\n",
    "        },\n",
    "        \"Art\": {\n",
    "            \"Mentor\": [\"Devenir artiste renommé\", \"Travailler sur des projets de design graphique innovants\"],\n",
    "            \"Mentoré\": [\"Apprendre les bases de la peinture\", \"Développer des compétences en arts numériques\"],\n",
    "        },\n",
    "        \"Éducation\": {\n",
    "            \"Mentor\": [\"Devenir un enseignant émérite\", \"Améliorer les méthodes d'enseignement\"],\n",
    "            \"Mentoré\": [\"Apprendre la pédagogie\", \"Comprendre la psychologie de l'éducation\"],\n",
    "        },\n",
    "        \"Ingénierie\": {\n",
    "            \"Mentor\": [\"Devenir ingénieur de renom\", \"Concevoir des produits mécaniques innovants\"],\n",
    "            \"Mentoré\": [\"Apprendre les bases de l'ingénierie électrique\", \"Comprendre la conception logicielle\"],\n",
    "        },\n",
    "        # Ajoutez ici d'autres domaines d'objectifs\n",
    "    }\n",
    "\n",
    "    metiers_par_domaine = {\n",
    "        \"Informatique\": [\"Développeur logiciel\", \"Ingénieur en cybersécurité\", \"Data scientist\", \"Développeur web\"],\n",
    "        \"Finance\": [\"Analyste financier\", \"Gestionnaire de portefeuille\", \"Comptable\", \"Trader\"],\n",
    "        \"Psychologie\": [\"Psychologue clinicien\", \"Psychologue scolaire\", \"Conseiller en orientation\", \"Psychologue de l'enfance\"],\n",
    "        \"Marketing\": [\"Responsable marketing\", \"Analyste de marché\", \"Chef de publicité\", \"Gestionnaire de campagnes\"],\n",
    "        \"Gestion\": [\"Chef de projet\", \"Responsable des ressources humaines\", \"Contrôleur financier\", \"Directeur général\"],\n",
    "        \"Médecine\": [\"Médecin généraliste\", \"Chirurgien\", \"Pédiatre\", \"Gynécologue\"],\n",
    "        \"Ressources Humaines\": [\"Responsable RH\", \"Formateur\", \"Recruteur\", \"Médiateur en conflits\"],\n",
    "        \"Art\": [\"Artiste\", \"Sculpteur\", \"Designer graphique\", \"Artiste numérique\"],\n",
    "        \"Éducation\": [\"Enseignant\", \"Psychopédagogue\", \"Éducateur spécialisé\", \"Didacticien\"],\n",
    "        \"Ingénierie\": [\"Ingénieur mécanique\", \"Ingénieur électrique\", \"Ingénieur logiciel\", \"Ingénieur civil\"],\n",
    "        # Ajoutez ici d'autres métiers par domaine\n",
    "    }\n",
    "\n",
    "    entreprises_par_domaine = {\n",
    "        \"Informatique\": [\"Google\", \"Microsoft\", \"Apple\", \"Amazon\", \"IBM\"],\n",
    "        \"Finance\": [\"Goldman Sachs\", \"JPMorgan Chase\", \"Morgan Stanley\", \"Citigroup\", \"Bank of America\"],\n",
    "        \"Psychologie\": [\"Mayo Clinic\", \"Cleveland Clinic\", \"Johns Hopkins Hospital\", \"Massachusetts General Hospital\", \"Stanford Health Care\"],\n",
    "        \"Marketing\": [\"Procter & Gamble\", \"Coca-Cola\", \"Nike\", \"McDonald's\", \"Amazon Advertising\"],\n",
    "        \"Gestion\": [\"McKinsey & Company\", \"Boston Consulting Group\", \"Bain & Company\", \"Deloitte\", \"PwC\"],\n",
    "        \"Médecine\": [\"Mayo Clinic\", \"Cleveland Clinic\", \"Johns Hopkins Hospital\", \"Massachusetts General Hospital\", \"Stanford Health Care\"],\n",
    "        \"Ressources Humaines\": [\"ADP\", \"Randstad\", \"Adecco\", \"ManpowerGroup\", \"Kelly Services\"],\n",
    "        \"Art\": [\"Sotheby's\", \"Christie's\", \"Gagosian Gallery\", \"Saatchi Gallery\", \"The Louvre\"],\n",
    "        \"Éducation\": [\"Harvard University\", \"Stanford University\", \"University of Cambridge\", \"Massachusetts Institute of Technology\", \"Oxford University\"],\n",
    "        \"Ingénierie\": [\"General Electric\", \"Siemens\", \"Boeing\", \"Lockheed Martin\", \"Airbus\"],\n",
    "        # Ajoutez ici d'autres entreprises par domaine\n",
    "    }\n",
    "    user_ID = {\"Mentor\":[\"MTR_\"+str(c) for c in list(range(1,n_rows+1))],\"Mentoré\":[\"MTE_\"+str(c) for c in list(range(1,n_rows+1))]}\n",
    "\n",
    "    # Générer des données pour chaque domaine\n",
    "    data = {\n",
    "        'ID': user_ID[profil],\n",
    "        'Prénom': [random.choice([\"Marie\", \"Julien\", \"Sophie\", \"Thomas\", \"Laura\", \"Marc\", \"Sophie\", \"Pierre\", \"Emilie\", \"Antoine\"]) for _ in range(n_rows)],\n",
    "        'Nom': [random.choice([\"Dupont\", \"Lambert\", \"Martin\", \"Roussel\", \"Bertrand\", \"Lefebvre\", \"Girard\", \"Dupuis\", \"Moreau\", \"Dubois\"]) for _ in range(n_rows)],\n",
    "        'Domaines': [],\n",
    "        'Diplôme': [],\n",
    "        'Compétences': [],\n",
    "        'Objectifs': [],\n",
    "        'Profil': [],\n",
    "        'Métier': [],\n",
    "        'Années d\\'expérience': [],\n",
    "        'Notation': [],\n",
    "        'Évaluation': [],\n",
    "        'Description de la personnalité': [],\n",
    "        'Université d\\'études': [],\n",
    "        'Parcours Professionnel': [],\n",
    "        'Historiques d\\'interaction': [],\n",
    "        'Tarif horaire en euros': [],\n",
    "        'Langue parlée': [],\n",
    "        'Localisation': [],\n",
    "        'Disponibilité':[]\n",
    "    }\n",
    "\n",
    "    for i in range(n_rows):\n",
    "        domaine = random.choice(domaines)\n",
    "        diplome = random.choice(diplomes_par_domaine[domaine])\n",
    "        metier = random.choice(metiers_par_domaine[domaine])\n",
    "        # profil =''.join(str(e) for e in random.choices([\"Mentor\", \"Mentoré\"], weights=[1/2,1/2]))\n",
    "        user_profil = random.choice([profil])\n",
    "        disponibilité=random.randint(1,3)\n",
    "        # print(len(disponibilité))\n",
    "        # print(len(localisation))\n",
    "        historiques_interaction = random.randint(0, 20)\n",
    "        tarif_horaire = 0\n",
    "        langue_parlee = random.choice([\"Français\", \"Anglais\",\"Bilingue\"])\n",
    "        localisation = random.choice([\"Paris\", \"Lyon\", \"Marseille\", \"Toulouse\", \"Bordeaux\", \"Lille\", \"Strasbourg\", \"Nantes\", \"Montpellier\", \"Rennes\"])\n",
    "        if user_profil== \"Mentor\":\n",
    "            annees_experience = random.randint(5, 30)\n",
    "            objectifs = random.choice(objectifs_par_domaine[domaine][user_profil])\n",
    "            notation = random.randint(1, 5)\n",
    "            evaluation = \"Très bien\" if notation == 5 else \"Bien\" if notation == 4 else \"Moyen\" if notation == 3 else \"Passable\" if notation == 2 else \"Médiocre\"\n",
    "            description_personnalite = random.choice([\"Sympathique et patient\", \"Créatif et innovant\", \"Analytique et organisé\", \"Sociable et communicatif\", \"Dynamique et enthousiaste\"])\n",
    "            universite_etudes = random.choice([\"Université de Paris\", \"Université de Lyon\", \"Université de Marseille\", \"Université de Toulouse\", \"Université de Bordeaux\"])\n",
    "            entreprises = random.sample(entreprises_par_domaine[domaine], random.randint(1, 5))\n",
    "            # durees = [random.randint(1, 10) for _ in range(len(entreprises))]\n",
    "            parcours_professionnel = \", \".join([f\"{entreprises[j]}\" for j in range(len(entreprises))])\n",
    "            if historiques_interaction > 10:\n",
    "                tarif_horaire = 35*notation\n",
    "            elif historiques_interaction >= 5 and historiques_interaction <= 10:\n",
    "                tarif_horaire = 25*notation\n",
    "            else:\n",
    "                tarif_horaire = 15*notation\n",
    "            \n",
    "        elif user_profil==\"Mentoré\":\n",
    "            annees_experience = random.randint(0, 5)\n",
    "            objectifs = random.choice(objectifs_par_domaine[domaine][user_profil])\n",
    "            annees_experience = random.randint(0, 5)\n",
    "            notation = np.nan\n",
    "            evaluation = np.nan\n",
    "            tarif_horaire=np.nan\n",
    "            description_personnalite = random.choice([\"Sympathique et patient\", \"Créatif et innovant\", \"Analytique et organisé\", \"Sociable et communicatif\", \"Dynamique et enthousiaste\"])\n",
    "            universite_etudes = random.choice([\"Université de Paris\", \"Université de Lyon\", \"Université de Marseille\", \"Université de Toulouse\", \"Université de Bordeaux\"])\n",
    "            if annees_experience==0:\n",
    "                    parcours_professionnel = random.choice([\"En recherche d'alternance\", \"En recherche d'un premier emploi\", \"En recherche de stage\"]) + f\" en {domaine}\"\n",
    "            else:\n",
    "                entreprises = random.sample(entreprises_par_domaine[domaine], random.randint(1, 5))\n",
    "                durees = [random.randint(1, 10) for _ in range(len(entreprises))]\n",
    "                parcours_professionnel = \", \".join([f\"{entreprises[j]}\" for j in range(len(entreprises))])\n",
    "        else:\n",
    "            print(\"no corresponding_profil\")\n",
    "            \n",
    "\n",
    "        # diplome = domaine\n",
    "        competences = random.choice(competences_par_domaine[domaine])\n",
    "        data['Domaines'].append(domaine)\n",
    "        data['Diplôme'].append(diplome)\n",
    "        data['Compétences'].append(competences)\n",
    "        data['Objectifs'].append(objectifs)\n",
    "        data['Métier'].append(metier)\n",
    "        data['Profil'].append(user_profil)\n",
    "        data['Années d\\'expérience'].append(annees_experience)\n",
    "        data['Notation'].append(notation)\n",
    "        data['Évaluation'].append(evaluation)\n",
    "        data['Description de la personnalité'].append(description_personnalite)\n",
    "        data['Université d\\'études'].append(universite_etudes)\n",
    "        data['Parcours Professionnel'].append(parcours_professionnel)\n",
    "        data['Historiques d\\'interaction'].append(historiques_interaction)\n",
    "        data['Tarif horaire en euros'].append(tarif_horaire)\n",
    "        data['Langue parlée'].append(langue_parlee)\n",
    "        data['Localisation'].append(localisation)\n",
    "        data['Disponibilité'].append(disponibilité)\n",
    "    df = pd.DataFrame(data)\n",
    "    return df\n",
    "# generate_user_data(\"Mentor\",10)\n",
    "\n",
    "def create_full_data(n_rows):\n",
    "    mentors_data = generate_user_data(\"Mentor\",n_rows)\n",
    "    mentees_data = generate_user_data(\"Mentoré\", n_rows)\n",
    "    full_data = pd.concat([mentors_data, mentees_data],axis=0)\n",
    "    full_data.to_csv('full_dataset.csv', index=False)\n",
    "nrows = int(eval(input(\"enter rows numbr\")))\n",
    "create_full_data(nrows)"
   ]
  },
  {
   "cell_type": "code",
   "execution_count": 3,
   "metadata": {},
   "outputs": [],
   "source": [
    "df = pd.read_csv('full_dataset.csv')"
   ]
  },
  {
   "cell_type": "code",
   "execution_count": 4,
   "metadata": {},
   "outputs": [
    {
     "data": {
      "text/html": [
       "<div>\n",
       "<style scoped>\n",
       "    .dataframe tbody tr th:only-of-type {\n",
       "        vertical-align: middle;\n",
       "    }\n",
       "\n",
       "    .dataframe tbody tr th {\n",
       "        vertical-align: top;\n",
       "    }\n",
       "\n",
       "    .dataframe thead th {\n",
       "        text-align: right;\n",
       "    }\n",
       "</style>\n",
       "<table border=\"1\" class=\"dataframe\">\n",
       "  <thead>\n",
       "    <tr style=\"text-align: right;\">\n",
       "      <th></th>\n",
       "      <th>ID</th>\n",
       "      <th>Prénom</th>\n",
       "      <th>Nom</th>\n",
       "      <th>Domaines</th>\n",
       "      <th>Diplôme</th>\n",
       "      <th>Compétences</th>\n",
       "      <th>Objectifs</th>\n",
       "      <th>Profil</th>\n",
       "      <th>Métier</th>\n",
       "      <th>Années d'expérience</th>\n",
       "      <th>Notation</th>\n",
       "      <th>Évaluation</th>\n",
       "      <th>Description de la personnalité</th>\n",
       "      <th>Université d'études</th>\n",
       "      <th>Parcours Professionnel</th>\n",
       "      <th>Historiques d'interaction</th>\n",
       "      <th>Tarif horaire en euros</th>\n",
       "      <th>Langue parlée</th>\n",
       "      <th>Localisation</th>\n",
       "      <th>Disponibilité</th>\n",
       "    </tr>\n",
       "  </thead>\n",
       "  <tbody>\n",
       "    <tr>\n",
       "      <th>995</th>\n",
       "      <td>MTE_496</td>\n",
       "      <td>Emilie</td>\n",
       "      <td>Lambert</td>\n",
       "      <td>Médecine</td>\n",
       "      <td>DES en Médecine</td>\n",
       "      <td>Chirurgie</td>\n",
       "      <td>Apprendre les bases de la médecine interne</td>\n",
       "      <td>Mentoré</td>\n",
       "      <td>Gynécologue</td>\n",
       "      <td>4</td>\n",
       "      <td>NaN</td>\n",
       "      <td>NaN</td>\n",
       "      <td>Dynamique et enthousiaste</td>\n",
       "      <td>Université de Lyon</td>\n",
       "      <td>Stanford Health Care, Mayo Clinic</td>\n",
       "      <td>10</td>\n",
       "      <td>NaN</td>\n",
       "      <td>Français</td>\n",
       "      <td>Bordeaux</td>\n",
       "      <td>1</td>\n",
       "    </tr>\n",
       "    <tr>\n",
       "      <th>996</th>\n",
       "      <td>MTE_497</td>\n",
       "      <td>Julien</td>\n",
       "      <td>Lefebvre</td>\n",
       "      <td>Gestion</td>\n",
       "      <td>Master en Gestion</td>\n",
       "      <td>Gestion de projet</td>\n",
       "      <td>Développer des compétences en gestion des ress...</td>\n",
       "      <td>Mentoré</td>\n",
       "      <td>Chef de projet</td>\n",
       "      <td>1</td>\n",
       "      <td>NaN</td>\n",
       "      <td>NaN</td>\n",
       "      <td>Analytique et organisé</td>\n",
       "      <td>Université de Toulouse</td>\n",
       "      <td>McKinsey &amp; Company, Boston Consulting Group, B...</td>\n",
       "      <td>0</td>\n",
       "      <td>NaN</td>\n",
       "      <td>Français</td>\n",
       "      <td>Lyon</td>\n",
       "      <td>3</td>\n",
       "    </tr>\n",
       "    <tr>\n",
       "      <th>997</th>\n",
       "      <td>MTE_498</td>\n",
       "      <td>Marc</td>\n",
       "      <td>Roussel</td>\n",
       "      <td>Ingénierie</td>\n",
       "      <td>BTS en Ingénierie</td>\n",
       "      <td>Ingénierie logicielle</td>\n",
       "      <td>Apprendre les bases de l'ingénierie électrique</td>\n",
       "      <td>Mentoré</td>\n",
       "      <td>Ingénieur électrique</td>\n",
       "      <td>2</td>\n",
       "      <td>NaN</td>\n",
       "      <td>NaN</td>\n",
       "      <td>Dynamique et enthousiaste</td>\n",
       "      <td>Université de Toulouse</td>\n",
       "      <td>Siemens, Lockheed Martin, Boeing</td>\n",
       "      <td>3</td>\n",
       "      <td>NaN</td>\n",
       "      <td>Français</td>\n",
       "      <td>Strasbourg</td>\n",
       "      <td>3</td>\n",
       "    </tr>\n",
       "    <tr>\n",
       "      <th>998</th>\n",
       "      <td>MTE_499</td>\n",
       "      <td>Antoine</td>\n",
       "      <td>Dupont</td>\n",
       "      <td>Art</td>\n",
       "      <td>Licence en Arts Plastiques</td>\n",
       "      <td>Sculpture</td>\n",
       "      <td>Développer des compétences en arts numériques</td>\n",
       "      <td>Mentoré</td>\n",
       "      <td>Sculpteur</td>\n",
       "      <td>1</td>\n",
       "      <td>NaN</td>\n",
       "      <td>NaN</td>\n",
       "      <td>Analytique et organisé</td>\n",
       "      <td>Université de Bordeaux</td>\n",
       "      <td>Christie's, Sotheby's, Gagosian Gallery</td>\n",
       "      <td>6</td>\n",
       "      <td>NaN</td>\n",
       "      <td>Anglais</td>\n",
       "      <td>Rennes</td>\n",
       "      <td>1</td>\n",
       "    </tr>\n",
       "    <tr>\n",
       "      <th>999</th>\n",
       "      <td>MTE_500</td>\n",
       "      <td>Thomas</td>\n",
       "      <td>Dubois</td>\n",
       "      <td>Ressources Humaines</td>\n",
       "      <td>Master en Ressources Humaines</td>\n",
       "      <td>Relations de travail</td>\n",
       "      <td>Acquérir des compétences en recrutement</td>\n",
       "      <td>Mentoré</td>\n",
       "      <td>Formateur</td>\n",
       "      <td>5</td>\n",
       "      <td>NaN</td>\n",
       "      <td>NaN</td>\n",
       "      <td>Créatif et innovant</td>\n",
       "      <td>Université de Marseille</td>\n",
       "      <td>ManpowerGroup, ADP, Kelly Services, Randstad, ...</td>\n",
       "      <td>7</td>\n",
       "      <td>NaN</td>\n",
       "      <td>Anglais</td>\n",
       "      <td>Marseille</td>\n",
       "      <td>3</td>\n",
       "    </tr>\n",
       "  </tbody>\n",
       "</table>\n",
       "</div>"
      ],
      "text/plain": [
       "          ID   Prénom       Nom             Domaines  \\\n",
       "995  MTE_496   Emilie   Lambert             Médecine   \n",
       "996  MTE_497   Julien  Lefebvre              Gestion   \n",
       "997  MTE_498     Marc   Roussel           Ingénierie   \n",
       "998  MTE_499  Antoine    Dupont                  Art   \n",
       "999  MTE_500   Thomas    Dubois  Ressources Humaines   \n",
       "\n",
       "                           Diplôme            Compétences  \\\n",
       "995                DES en Médecine              Chirurgie   \n",
       "996              Master en Gestion      Gestion de projet   \n",
       "997              BTS en Ingénierie  Ingénierie logicielle   \n",
       "998     Licence en Arts Plastiques              Sculpture   \n",
       "999  Master en Ressources Humaines   Relations de travail   \n",
       "\n",
       "                                             Objectifs   Profil  \\\n",
       "995         Apprendre les bases de la médecine interne  Mentoré   \n",
       "996  Développer des compétences en gestion des ress...  Mentoré   \n",
       "997     Apprendre les bases de l'ingénierie électrique  Mentoré   \n",
       "998      Développer des compétences en arts numériques  Mentoré   \n",
       "999            Acquérir des compétences en recrutement  Mentoré   \n",
       "\n",
       "                   Métier  Années d'expérience  Notation Évaluation  \\\n",
       "995           Gynécologue                    4       NaN        NaN   \n",
       "996        Chef de projet                    1       NaN        NaN   \n",
       "997  Ingénieur électrique                    2       NaN        NaN   \n",
       "998             Sculpteur                    1       NaN        NaN   \n",
       "999             Formateur                    5       NaN        NaN   \n",
       "\n",
       "    Description de la personnalité      Université d'études  \\\n",
       "995      Dynamique et enthousiaste       Université de Lyon   \n",
       "996         Analytique et organisé   Université de Toulouse   \n",
       "997      Dynamique et enthousiaste   Université de Toulouse   \n",
       "998         Analytique et organisé   Université de Bordeaux   \n",
       "999            Créatif et innovant  Université de Marseille   \n",
       "\n",
       "                                Parcours Professionnel  \\\n",
       "995                  Stanford Health Care, Mayo Clinic   \n",
       "996  McKinsey & Company, Boston Consulting Group, B...   \n",
       "997                   Siemens, Lockheed Martin, Boeing   \n",
       "998            Christie's, Sotheby's, Gagosian Gallery   \n",
       "999  ManpowerGroup, ADP, Kelly Services, Randstad, ...   \n",
       "\n",
       "     Historiques d'interaction  Tarif horaire en euros Langue parlée  \\\n",
       "995                         10                     NaN      Français   \n",
       "996                          0                     NaN      Français   \n",
       "997                          3                     NaN      Français   \n",
       "998                          6                     NaN       Anglais   \n",
       "999                          7                     NaN       Anglais   \n",
       "\n",
       "    Localisation  Disponibilité  \n",
       "995     Bordeaux              1  \n",
       "996         Lyon              3  \n",
       "997   Strasbourg              3  \n",
       "998       Rennes              1  \n",
       "999    Marseille              3  "
      ]
     },
     "execution_count": 4,
     "metadata": {},
     "output_type": "execute_result"
    }
   ],
   "source": [
    "df.tail()"
   ]
  },
  {
   "cell_type": "code",
   "execution_count": 5,
   "metadata": {},
   "outputs": [
    {
     "data": {
      "text/plain": [
       "Mentor     500\n",
       "Mentoré    500\n",
       "Name: Profil, dtype: int64"
      ]
     },
     "execution_count": 5,
     "metadata": {},
     "output_type": "execute_result"
    }
   ],
   "source": [
    "df[\"Profil\"].value_counts()"
   ]
  },
  {
   "cell_type": "markdown",
   "metadata": {},
   "source": [
    "### EDA"
   ]
  },
  {
   "cell_type": "code",
   "execution_count": 6,
   "metadata": {},
   "outputs": [
    {
     "data": {
      "text/plain": [
       "0"
      ]
     },
     "execution_count": 6,
     "metadata": {},
     "output_type": "execute_result"
    }
   ],
   "source": [
    "df.duplicated().sum()"
   ]
  },
  {
   "cell_type": "markdown",
   "metadata": {},
   "source": [
    "Il n'y pas de lignes dupliquées"
   ]
  },
  {
   "cell_type": "code",
   "execution_count": 7,
   "metadata": {},
   "outputs": [],
   "source": [
    "num_df =df.select_dtypes(include=[\"int\",\"float\"])"
   ]
  },
  {
   "cell_type": "code",
   "execution_count": 8,
   "metadata": {},
   "outputs": [
    {
     "data": {
      "text/html": [
       "<div>\n",
       "<style scoped>\n",
       "    .dataframe tbody tr th:only-of-type {\n",
       "        vertical-align: middle;\n",
       "    }\n",
       "\n",
       "    .dataframe tbody tr th {\n",
       "        vertical-align: top;\n",
       "    }\n",
       "\n",
       "    .dataframe thead th {\n",
       "        text-align: right;\n",
       "    }\n",
       "</style>\n",
       "<table border=\"1\" class=\"dataframe\">\n",
       "  <thead>\n",
       "    <tr style=\"text-align: right;\">\n",
       "      <th></th>\n",
       "      <th>Années d'expérience</th>\n",
       "      <th>Notation</th>\n",
       "      <th>Historiques d'interaction</th>\n",
       "      <th>Tarif horaire en euros</th>\n",
       "      <th>Disponibilité</th>\n",
       "    </tr>\n",
       "  </thead>\n",
       "  <tbody>\n",
       "    <tr>\n",
       "      <th>count</th>\n",
       "      <td>1000.00000</td>\n",
       "      <td>500.00000</td>\n",
       "      <td>1000.000000</td>\n",
       "      <td>500.000000</td>\n",
       "      <td>1000.000000</td>\n",
       "    </tr>\n",
       "    <tr>\n",
       "      <th>mean</th>\n",
       "      <td>10.16500</td>\n",
       "      <td>2.93000</td>\n",
       "      <td>9.785000</td>\n",
       "      <td>79.410000</td>\n",
       "      <td>2.057000</td>\n",
       "    </tr>\n",
       "    <tr>\n",
       "      <th>std</th>\n",
       "      <td>9.33954</td>\n",
       "      <td>1.38598</td>\n",
       "      <td>6.049742</td>\n",
       "      <td>45.742613</td>\n",
       "      <td>0.807715</td>\n",
       "    </tr>\n",
       "    <tr>\n",
       "      <th>min</th>\n",
       "      <td>0.00000</td>\n",
       "      <td>1.00000</td>\n",
       "      <td>0.000000</td>\n",
       "      <td>15.000000</td>\n",
       "      <td>1.000000</td>\n",
       "    </tr>\n",
       "    <tr>\n",
       "      <th>25%</th>\n",
       "      <td>2.00000</td>\n",
       "      <td>2.00000</td>\n",
       "      <td>5.000000</td>\n",
       "      <td>45.000000</td>\n",
       "      <td>1.000000</td>\n",
       "    </tr>\n",
       "    <tr>\n",
       "      <th>50%</th>\n",
       "      <td>5.00000</td>\n",
       "      <td>3.00000</td>\n",
       "      <td>10.000000</td>\n",
       "      <td>70.000000</td>\n",
       "      <td>2.000000</td>\n",
       "    </tr>\n",
       "    <tr>\n",
       "      <th>75%</th>\n",
       "      <td>18.00000</td>\n",
       "      <td>4.00000</td>\n",
       "      <td>15.000000</td>\n",
       "      <td>105.000000</td>\n",
       "      <td>3.000000</td>\n",
       "    </tr>\n",
       "    <tr>\n",
       "      <th>max</th>\n",
       "      <td>30.00000</td>\n",
       "      <td>5.00000</td>\n",
       "      <td>20.000000</td>\n",
       "      <td>175.000000</td>\n",
       "      <td>3.000000</td>\n",
       "    </tr>\n",
       "  </tbody>\n",
       "</table>\n",
       "</div>"
      ],
      "text/plain": [
       "       Années d'expérience   Notation  Historiques d'interaction  \\\n",
       "count           1000.00000  500.00000                1000.000000   \n",
       "mean              10.16500    2.93000                   9.785000   \n",
       "std                9.33954    1.38598                   6.049742   \n",
       "min                0.00000    1.00000                   0.000000   \n",
       "25%                2.00000    2.00000                   5.000000   \n",
       "50%                5.00000    3.00000                  10.000000   \n",
       "75%               18.00000    4.00000                  15.000000   \n",
       "max               30.00000    5.00000                  20.000000   \n",
       "\n",
       "       Tarif horaire en euros  Disponibilité  \n",
       "count              500.000000    1000.000000  \n",
       "mean                79.410000       2.057000  \n",
       "std                 45.742613       0.807715  \n",
       "min                 15.000000       1.000000  \n",
       "25%                 45.000000       1.000000  \n",
       "50%                 70.000000       2.000000  \n",
       "75%                105.000000       3.000000  \n",
       "max                175.000000       3.000000  "
      ]
     },
     "execution_count": 8,
     "metadata": {},
     "output_type": "execute_result"
    }
   ],
   "source": [
    "num_df.describe()"
   ]
  },
  {
   "cell_type": "code",
   "execution_count": 9,
   "metadata": {},
   "outputs": [
    {
     "data": {
      "text/plain": [
       "array([[<AxesSubplot:title={'center':\"Années d'expérience\"}>,\n",
       "        <AxesSubplot:title={'center':'Notation'}>],\n",
       "       [<AxesSubplot:title={'center':\"Historiques d'interaction\"}>,\n",
       "        <AxesSubplot:title={'center':'Tarif horaire en euros'}>],\n",
       "       [<AxesSubplot:title={'center':'Disponibilité'}>, <AxesSubplot:>]],\n",
       "      dtype=object)"
      ]
     },
     "execution_count": 9,
     "metadata": {},
     "output_type": "execute_result"
    },
    {
     "data": {
      "image/png": "[encoded data removed]",
      "text/plain": [
       "<Figure size 1600x800 with 6 Axes>"
      ]
     },
     "metadata": {},
     "output_type": "display_data"
    }
   ],
   "source": [
    "num_df.hist(figsize=(16,8))"
   ]
  },
  {
   "cell_type": "code",
   "execution_count": 10,
   "metadata": {},
   "outputs": [],
   "source": [
    "import seaborn as sns"
   ]
  },
  {
   "cell_type": "code",
   "execution_count": 11,
   "metadata": {},
   "outputs": [
    {
     "data": {
      "text/plain": [
       "<AxesSubplot:>"
      ]
     },
     "execution_count": 11,
     "metadata": {},
     "output_type": "execute_result"
    },
    {
     "data": {
      "image/png": "[encoded data removed]",
      "text/plain": [
       "<Figure size 640x480 with 2 Axes>"
      ]
     },
     "metadata": {},
     "output_type": "display_data"
    }
   ],
   "source": [
    "corr_mat =num_df.corr()\n",
    "\n",
    "sns.heatmap(corr_mat, annot=True, cmap=\"vlag\", fmt=\".2\")"
   ]
  },
  {
   "cell_type": "markdown",
   "metadata": {},
   "source": [
    "### Création d'un dataset labélisé avec un score de matching"
   ]
  },
  {
   "cell_type": "code",
   "execution_count": 12,
   "metadata": {},
   "outputs": [],
   "source": [
    "from sklearn.metrics.pairwise import cosine_similarity\n",
    "from sklearn.preprocessing import OneHotEncoder\n",
    "from sklearn.feature_extraction.text import TfidfVectorizer\n",
    "from sklearn.preprocessing import MinMaxScaler"
   ]
  },
  {
   "cell_type": "code",
   "execution_count": 13,
   "metadata": {},
   "outputs": [
    {
     "data": {
      "text/plain": [
       "Index(['ID', 'Prénom', 'Nom', 'Domaines', 'Diplôme', 'Compétences',\n",
       "       'Objectifs', 'Profil', 'Métier', 'Années d'expérience', 'Notation',\n",
       "       'Évaluation', 'Description de la personnalité', 'Université d'études',\n",
       "       'Parcours Professionnel', 'Historiques d'interaction',\n",
       "       'Tarif horaire en euros', 'Langue parlée', 'Localisation',\n",
       "       'Disponibilité'],\n",
       "      dtype='object')"
      ]
     },
     "execution_count": 13,
     "metadata": {},
     "output_type": "execute_result"
    }
   ],
   "source": [
    "df.columns"
   ]
  },
  {
   "cell_type": "code",
   "execution_count": 14,
   "metadata": {},
   "outputs": [],
   "source": [
    "def get_similarity_data(data_arg):\n",
    "    feature = [\"Domaines\",\"Diplôme\",\"Compétences\",\"Objectifs\",\"Métier\",\"Localisation\",\"Langue parlée\",\"Disponibilité\",\"Description de la personnalité\",\"Université d'études\", \"Parcours Professionnel\"]\n",
    "    #Encodage one-hot des caractéristiques catégorielles\n",
    "    oH_encoder = OneHotEncoder(sparse=False, drop='first')\n",
    "    # encoder.get\n",
    "    oH_encoded_features = oH_encoder.fit_transform(data_arg[feature])\n",
    "    # scaler = MinMaxScaler()\n",
    "    # df_arg[num_feat] = scaler.fit_transform(df_work[num_feat])\n",
    "    # Créer un DataFrame avec les caractéristiques encodées\n",
    "    oH_encoded_df = pd.DataFrame(oH_encoded_features, columns=oH_encoder.get_feature_names_out(feature))\n",
    "    combined_data_encoded = pd.concat([data_arg,oH_encoded_df], axis=1)\n",
    "    mentors_data = combined_data_encoded.query(\"Profil=='Mentor'\")\n",
    "    # mentors_data = mentors_data[features]\n",
    "    mentorees_data = combined_data_encoded.query(\"Profil=='Mentoré'\")\n",
    "    mentors_features =mentors_data.drop(columns=data_arg.columns)\n",
    "    mentorees_features =mentorees_data.drop(columns=data_arg.columns)\n",
    "    similarity_score = cosine_similarity(mentors_features,mentorees_features, dense_output=True) \n",
    "    return mentors_data, mentorees_data, similarity_score\n"
   ]
  },
  {
   "cell_type": "code",
   "execution_count": 15,
   "metadata": {},
   "outputs": [],
   "source": [
    "mtr_df, mte_df, mat = get_similarity_data(df)"
   ]
  },
  {
   "cell_type": "code",
   "execution_count": 16,
   "metadata": {},
   "outputs": [
    {
     "data": {
      "text/html": [
       "<div>\n",
       "<style scoped>\n",
       "    .dataframe tbody tr th:only-of-type {\n",
       "        vertical-align: middle;\n",
       "    }\n",
       "\n",
       "    .dataframe tbody tr th {\n",
       "        vertical-align: top;\n",
       "    }\n",
       "\n",
       "    .dataframe thead th {\n",
       "        text-align: right;\n",
       "    }\n",
       "</style>\n",
       "<table border=\"1\" class=\"dataframe\">\n",
       "  <thead>\n",
       "    <tr style=\"text-align: right;\">\n",
       "      <th></th>\n",
       "      <th>ID</th>\n",
       "      <th>Prénom</th>\n",
       "      <th>Nom</th>\n",
       "      <th>Domaines</th>\n",
       "      <th>Diplôme</th>\n",
       "      <th>Compétences</th>\n",
       "      <th>Objectifs</th>\n",
       "      <th>Profil</th>\n",
       "      <th>Métier</th>\n",
       "      <th>Années d'expérience</th>\n",
       "      <th>...</th>\n",
       "      <th>Parcours Professionnel_University of Cambridge, Harvard University, Massachusetts Institute of Technology, Stanford University, Oxford University</th>\n",
       "      <th>Parcours Professionnel_University of Cambridge, Harvard University, Stanford University, Massachusetts Institute of Technology</th>\n",
       "      <th>Parcours Professionnel_University of Cambridge, Harvard University, Stanford University, Massachusetts Institute of Technology, Oxford University</th>\n",
       "      <th>Parcours Professionnel_University of Cambridge, Massachusetts Institute of Technology, Oxford University</th>\n",
       "      <th>Parcours Professionnel_University of Cambridge, Massachusetts Institute of Technology, Stanford University</th>\n",
       "      <th>Parcours Professionnel_University of Cambridge, Massachusetts Institute of Technology, Stanford University, Oxford University, Harvard University</th>\n",
       "      <th>Parcours Professionnel_University of Cambridge, Oxford University, Harvard University, Massachusetts Institute of Technology, Stanford University</th>\n",
       "      <th>Parcours Professionnel_University of Cambridge, Oxford University, Massachusetts Institute of Technology</th>\n",
       "      <th>Parcours Professionnel_University of Cambridge, Oxford University, Stanford University</th>\n",
       "      <th>Parcours Professionnel_University of Cambridge, Stanford University</th>\n",
       "    </tr>\n",
       "  </thead>\n",
       "  <tbody>\n",
       "    <tr>\n",
       "      <th>0</th>\n",
       "      <td>MTR_1</td>\n",
       "      <td>Marc</td>\n",
       "      <td>Girard</td>\n",
       "      <td>Éducation</td>\n",
       "      <td>Master en Pédagogie</td>\n",
       "      <td>Didactique</td>\n",
       "      <td>Améliorer les méthodes d'enseignement</td>\n",
       "      <td>Mentor</td>\n",
       "      <td>Enseignant</td>\n",
       "      <td>19</td>\n",
       "      <td>...</td>\n",
       "      <td>0.0</td>\n",
       "      <td>0.0</td>\n",
       "      <td>0.0</td>\n",
       "      <td>0.0</td>\n",
       "      <td>0.0</td>\n",
       "      <td>0.0</td>\n",
       "      <td>0.0</td>\n",
       "      <td>0.0</td>\n",
       "      <td>0.0</td>\n",
       "      <td>0.0</td>\n",
       "    </tr>\n",
       "    <tr>\n",
       "      <th>1</th>\n",
       "      <td>MTR_2</td>\n",
       "      <td>Julien</td>\n",
       "      <td>Roussel</td>\n",
       "      <td>Finance</td>\n",
       "      <td>Doctorat en Finance</td>\n",
       "      <td>Marchés financiers</td>\n",
       "      <td>Gérer des portefeuilles d'investissement compl...</td>\n",
       "      <td>Mentor</td>\n",
       "      <td>Trader</td>\n",
       "      <td>17</td>\n",
       "      <td>...</td>\n",
       "      <td>0.0</td>\n",
       "      <td>0.0</td>\n",
       "      <td>0.0</td>\n",
       "      <td>0.0</td>\n",
       "      <td>0.0</td>\n",
       "      <td>0.0</td>\n",
       "      <td>0.0</td>\n",
       "      <td>0.0</td>\n",
       "      <td>0.0</td>\n",
       "      <td>0.0</td>\n",
       "    </tr>\n",
       "  </tbody>\n",
       "</table>\n",
       "<p>2 rows × 857 columns</p>\n",
       "</div>"
      ],
      "text/plain": [
       "      ID  Prénom      Nom   Domaines              Diplôme         Compétences  \\\n",
       "0  MTR_1    Marc   Girard  Éducation  Master en Pédagogie          Didactique   \n",
       "1  MTR_2  Julien  Roussel    Finance  Doctorat en Finance  Marchés financiers   \n",
       "\n",
       "                                           Objectifs  Profil      Métier  \\\n",
       "0              Améliorer les méthodes d'enseignement  Mentor  Enseignant   \n",
       "1  Gérer des portefeuilles d'investissement compl...  Mentor      Trader   \n",
       "\n",
       "   Années d'expérience  ...  \\\n",
       "0                   19  ...   \n",
       "1                   17  ...   \n",
       "\n",
       "   Parcours Professionnel_University of Cambridge, Harvard University, Massachusetts Institute of Technology, Stanford University, Oxford University  \\\n",
       "0                                                0.0                                                                                                   \n",
       "1                                                0.0                                                                                                   \n",
       "\n",
       "  Parcours Professionnel_University of Cambridge, Harvard University, Stanford University, Massachusetts Institute of Technology  \\\n",
       "0                                                0.0                                                                               \n",
       "1                                                0.0                                                                               \n",
       "\n",
       "  Parcours Professionnel_University of Cambridge, Harvard University, Stanford University, Massachusetts Institute of Technology, Oxford University  \\\n",
       "0                                                0.0                                                                                                  \n",
       "1                                                0.0                                                                                                  \n",
       "\n",
       "  Parcours Professionnel_University of Cambridge, Massachusetts Institute of Technology, Oxford University  \\\n",
       "0                                                0.0                                                         \n",
       "1                                                0.0                                                         \n",
       "\n",
       "  Parcours Professionnel_University of Cambridge, Massachusetts Institute of Technology, Stanford University  \\\n",
       "0                                                0.0                                                           \n",
       "1                                                0.0                                                           \n",
       "\n",
       "   Parcours Professionnel_University of Cambridge, Massachusetts Institute of Technology, Stanford University, Oxford University, Harvard University  \\\n",
       "0                                                0.0                                                                                                   \n",
       "1                                                0.0                                                                                                   \n",
       "\n",
       "   Parcours Professionnel_University of Cambridge, Oxford University, Harvard University, Massachusetts Institute of Technology, Stanford University  \\\n",
       "0                                                0.0                                                                                                   \n",
       "1                                                0.0                                                                                                   \n",
       "\n",
       "  Parcours Professionnel_University of Cambridge, Oxford University, Massachusetts Institute of Technology  \\\n",
       "0                                                0.0                                                         \n",
       "1                                                0.0                                                         \n",
       "\n",
       "  Parcours Professionnel_University of Cambridge, Oxford University, Stanford University  \\\n",
       "0                                                0.0                                       \n",
       "1                                                0.0                                       \n",
       "\n",
       "   Parcours Professionnel_University of Cambridge, Stanford University  \n",
       "0                                                0.0                    \n",
       "1                                                0.0                    \n",
       "\n",
       "[2 rows x 857 columns]"
      ]
     },
     "execution_count": 16,
     "metadata": {},
     "output_type": "execute_result"
    }
   ],
   "source": [
    "mtr_df.head(2)"
   ]
  },
  {
   "cell_type": "code",
   "execution_count": 17,
   "metadata": {},
   "outputs": [],
   "source": [
    "# Définition des seuils pour l'évaluation\n",
    "def evaluate_score(score):\n",
    "    if score > 0.7:\n",
    "        return 'High'\n",
    "    elif 0.5 <= score <= 0.7:\n",
    "        return 'Middle'\n",
    "    else:\n",
    "        return 'Basse'"
   ]
  },
  {
   "cell_type": "code",
   "execution_count": 18,
   "metadata": {},
   "outputs": [],
   "source": [
    "\n",
    "def get_simple_matching_df(mentors_data,mentorees_data,similarities):\n",
    "    mentoré_list = []\n",
    "    mentor_idéal_list = []\n",
    "    score_list = []\n",
    "    mentor_id_list = []\n",
    "    mentee_id_list = []\n",
    "    mentor_diplome_list = []\n",
    "    mentee_diplome_list = []\n",
    "    eval_list = []\n",
    "    len_mentee_data = len(mentorees_data)\n",
    "    \n",
    "    for i in range(len(mentors_data)):\n",
    "        for j in range(len(mentorees_data)):\n",
    "            mentor_idéal_list.append(mentors_data['Prénom'][i]+\" \"+mentors_data['Nom'][i])\n",
    "            mentoré_list.append(mentorees_data['Prénom'][len_mentee_data+j]+\" \"+mentorees_data['Nom'][len_mentee_data+j])\n",
    "            mentor_id_list.append(mentors_data['ID'][i])\n",
    "            mentee_id_list.append(mentorees_data['ID'][len_mentee_data+j])\n",
    "            mentor_diplome_list.append(mentors_data[\"Diplôme\"][i])\n",
    "            mentee_diplome_list.append(mentorees_data[\"Diplôme\"][i+len_mentee_data])\n",
    "            score_list.append((similarities[i][j]))\n",
    "            eval_list.append(evaluate_score(similarities[i][j]))\n",
    "\n",
    "    # Créez le DataFrame en utilisant les listes\n",
    "    resultat = pd.DataFrame({ \"Mentor\": mentor_idéal_list, \"Mentor_id\":mentor_id_list,\"Mentoré\": mentoré_list,\"Mentee_id\":mentee_id_list,\"Diplome_mentor\":mentor_diplome_list, \"Diplome_mentee\":mentee_diplome_list,\"Score\": score_list,\"Evaluation\":eval_list})\n",
    "    mat_score = pd.DataFrame(similarities, columns=mentorees_data[\"ID\"],index=mentors_data[\"ID\"])\n",
    "    return resultat.sort_values(by=\"Score\", ascending=False), mat_score\n"
   ]
  },
  {
   "cell_type": "code",
   "execution_count": 19,
   "metadata": {},
   "outputs": [],
   "source": [
    "# import pandas as pd\n",
    "\n",
    "# def get_simple_matching_df(mentors_data, mentorees_data, similarities):\n",
    "#     len_mentee_data = len(mentorees_data)\n",
    "\n",
    "#     mentor_idéal_list = [f\"{mentors_data['Prénom'][i]} {mentors_data['Nom'][i]}\" for i in range(len(mentors_data))]\n",
    "#     mentoré_list = [f\"{mentorees_data['Prénom'][len_mentee_data+j]} {mentorees_data['Nom'][len_mentee_data+j]}\" for j in range(len(mentorees_data))]\n",
    "#     mentor_id_list = [mentors_data['ID'][i] for i in range(len(mentors_data))]\n",
    "#     mentee_id_list = [mentorees_data['ID'][len_mentee_data+j] for j in range(len(mentorees_data))]\n",
    "#     mentor_diplome_list = [mentors_data['Diplôme'][i] for i in range(len(mentors_data))]\n",
    "#     mentee_diplome_list = [mentorees_data['Diplôme'][i+len_mentee_data] for i in range(len(mentorees_data))]\n",
    "#     score_list = [similarities[i][j] for i in range(len(mentors_data)) for j in range(len(mentorees_data))]\n",
    "#     eval_list = [evaluate_score(similarities[i][j]) for i in range(len(mentors_data)) for j in range(len(mentorees_data))]\n",
    "\n",
    "#     resultat = pd.DataFrame({\n",
    "#         \"Mentor\": mentor_idéal_list,\n",
    "#         \"Mentor_id\": mentor_id_list,\n",
    "#         \"Mentoré\": mentoré_list,\n",
    "#         \"Mentee_id\": mentee_id_list,\n",
    "#         \"Diplome_mentor\": mentor_diplome_list,\n",
    "#         \"Diplome_mentee\": mentee_diplome_list,\n",
    "#         \"Score\": score_list,\n",
    "#         \"Evaluation\": eval_list\n",
    "#     })\n",
    "\n",
    "#     mat_score = pd.DataFrame(similarities, columns=mentorees_data[\"ID\"], index=mentors_data[\"ID\"])\n",
    "    \n",
    "#     return resultat, mat_score\n"
   ]
  },
  {
   "cell_type": "code",
   "execution_count": 20,
   "metadata": {},
   "outputs": [],
   "source": [
    "feature = [\"Domaines\",\"Diplôme\",\"Compétences\",\"Objectifs\",\"Métier\",\"Localisation\",\"Langue parlée\",\"Disponibilité\",\"Description de la personnalité\",\"Université d'études\", \"Parcours Professionnel\"]"
   ]
  },
  {
   "cell_type": "code",
   "execution_count": 21,
   "metadata": {},
   "outputs": [],
   "source": [
    "def get_full_matching_df(mtr_df, mte_df,mat_score,feature=[\"Domaines\",\"Diplôme\",\"Compétences\",\"Objectifs\",\"Métier\",\"ID\"]):\n",
    "    n_repeats = len(mte_df)\n",
    "    mtr_df_repeated = pd.concat([mtr_df[feature]] * n_repeats, ignore_index=True)\n",
    "    mte_df_repeated = pd.concat([mte_df[feature]] * len(mtr_df), ignore_index=True)\n",
    "    # Rename columns with prefixes\n",
    "    mtr_df_repeated.columns = [\"MTR_\" + col for col in mtr_df_repeated.columns]\n",
    "    mte_df_repeated.columns = [\"MTE_\" + col for col in mte_df_repeated.columns]\n",
    "    scores = [mat_score[i][j] for i in range(len(mtr_df)) for j in range(len(mte_df))]\n",
    "    eval_score = [evaluate_score(score) for score in scores]\n",
    "    # Combine the two DataFrames\n",
    "    res_data = pd.concat([mtr_df_repeated, mte_df_repeated], axis=1)\n",
    "    res_data[\"Score\"] = scores\n",
    "    res_data[\"eval_score\"] = eval_score\n",
    "    return res_data.sort_values(by=\"Score\",ascending=False)\n",
    "        "
   ]
  },
  {
   "cell_type": "code",
   "execution_count": 22,
   "metadata": {},
   "outputs": [],
   "source": [
    "full_matching_res= get_full_matching_df(mtr_df,mte_df, mat)"
   ]
  },
  {
   "cell_type": "code",
   "execution_count": 82,
   "metadata": {},
   "outputs": [
    {
     "data": {
      "text/html": [
       "<div>\n",
       "<style scoped>\n",
       "    .dataframe tbody tr th:only-of-type {\n",
       "        vertical-align: middle;\n",
       "    }\n",
       "\n",
       "    .dataframe tbody tr th {\n",
       "        vertical-align: top;\n",
       "    }\n",
       "\n",
       "    .dataframe thead th {\n",
       "        text-align: right;\n",
       "    }\n",
       "</style>\n",
       "<table border=\"1\" class=\"dataframe\">\n",
       "  <thead>\n",
       "    <tr style=\"text-align: right;\">\n",
       "      <th></th>\n",
       "      <th>MTR_Domaines</th>\n",
       "      <th>MTR_Diplôme</th>\n",
       "      <th>MTR_Compétences</th>\n",
       "      <th>MTR_Objectifs</th>\n",
       "      <th>MTR_Métier</th>\n",
       "      <th>MTR_ID</th>\n",
       "      <th>MTE_Domaines</th>\n",
       "      <th>MTE_Diplôme</th>\n",
       "      <th>MTE_Compétences</th>\n",
       "      <th>MTE_Objectifs</th>\n",
       "      <th>MTE_Métier</th>\n",
       "      <th>MTE_ID</th>\n",
       "      <th>Score</th>\n",
       "      <th>eval_score</th>\n",
       "    </tr>\n",
       "  </thead>\n",
       "  <tbody>\n",
       "    <tr>\n",
       "      <th>155266</th>\n",
       "      <td>Psychologie</td>\n",
       "      <td>Licence en Psychologie</td>\n",
       "      <td>Psychologie de l'enfance</td>\n",
       "      <td>Faire de la recherche en psychologie</td>\n",
       "      <td>Psychologue de l'enfance</td>\n",
       "      <td>MTR_267</td>\n",
       "      <td>Finance</td>\n",
       "      <td>Licence en Finance</td>\n",
       "      <td>Analyse financière</td>\n",
       "      <td>Acquérir des compétences en analyse financière</td>\n",
       "      <td>Comptable</td>\n",
       "      <td>MTE_267</td>\n",
       "      <td>0.737865</td>\n",
       "      <td>High</td>\n",
       "    </tr>\n",
       "    <tr>\n",
       "      <th>169836</th>\n",
       "      <td>Psychologie</td>\n",
       "      <td>Master en Psychologie</td>\n",
       "      <td>Évaluation psychologique</td>\n",
       "      <td>Devenir psychologue clinicien renommé</td>\n",
       "      <td>Psychologue de l'enfance</td>\n",
       "      <td>MTR_337</td>\n",
       "      <td>Médecine</td>\n",
       "      <td>Pharmacie</td>\n",
       "      <td>Chirurgie</td>\n",
       "      <td>Comprendre la gynécologie</td>\n",
       "      <td>Gynécologue</td>\n",
       "      <td>MTE_337</td>\n",
       "      <td>0.727273</td>\n",
       "      <td>High</td>\n",
       "    </tr>\n",
       "    <tr>\n",
       "      <th>50778</th>\n",
       "      <td>Gestion</td>\n",
       "      <td>BTS en Gestion</td>\n",
       "      <td>Gestion de projet</td>\n",
       "      <td>Gérer des projets internationaux</td>\n",
       "      <td>Chef de projet</td>\n",
       "      <td>MTR_279</td>\n",
       "      <td>Finance</td>\n",
       "      <td>Master en Finance</td>\n",
       "      <td>Gestion de portefeuille</td>\n",
       "      <td>Acquérir des compétences en analyse financière</td>\n",
       "      <td>Trader</td>\n",
       "      <td>MTE_279</td>\n",
       "      <td>0.703526</td>\n",
       "      <td>High</td>\n",
       "    </tr>\n",
       "    <tr>\n",
       "      <th>219033</th>\n",
       "      <td>Ressources Humaines</td>\n",
       "      <td>Licence en Ressources Humaines</td>\n",
       "      <td>Recrutement</td>\n",
       "      <td>Devenir expert en gestion des talents</td>\n",
       "      <td>Responsable RH</td>\n",
       "      <td>MTR_34</td>\n",
       "      <td>Finance</td>\n",
       "      <td>BTS en Finance</td>\n",
       "      <td>Marchés financiers</td>\n",
       "      <td>Acquérir des compétences en analyse financière</td>\n",
       "      <td>Gestionnaire de portefeuille</td>\n",
       "      <td>MTE_34</td>\n",
       "      <td>0.703526</td>\n",
       "      <td>High</td>\n",
       "    </tr>\n",
       "    <tr>\n",
       "      <th>80274</th>\n",
       "      <td>Ingénierie</td>\n",
       "      <td>Master en Ingénierie</td>\n",
       "      <td>Ingénierie logicielle</td>\n",
       "      <td>Devenir ingénieur de renom</td>\n",
       "      <td>Ingénieur mécanique</td>\n",
       "      <td>MTR_275</td>\n",
       "      <td>Finance</td>\n",
       "      <td>Doctorat en Finance</td>\n",
       "      <td>Gestion de portefeuille</td>\n",
       "      <td>Acquérir des compétences en analyse financière</td>\n",
       "      <td>Gestionnaire de portefeuille</td>\n",
       "      <td>MTE_275</td>\n",
       "      <td>0.703526</td>\n",
       "      <td>High</td>\n",
       "    </tr>\n",
       "  </tbody>\n",
       "</table>\n",
       "</div>"
      ],
      "text/plain": [
       "               MTR_Domaines                     MTR_Diplôme  \\\n",
       "155266          Psychologie          Licence en Psychologie   \n",
       "169836          Psychologie           Master en Psychologie   \n",
       "50778               Gestion                  BTS en Gestion   \n",
       "219033  Ressources Humaines  Licence en Ressources Humaines   \n",
       "80274            Ingénierie            Master en Ingénierie   \n",
       "\n",
       "                 MTR_Compétences                          MTR_Objectifs  \\\n",
       "155266  Psychologie de l'enfance   Faire de la recherche en psychologie   \n",
       "169836  Évaluation psychologique  Devenir psychologue clinicien renommé   \n",
       "50778          Gestion de projet       Gérer des projets internationaux   \n",
       "219033               Recrutement  Devenir expert en gestion des talents   \n",
       "80274      Ingénierie logicielle             Devenir ingénieur de renom   \n",
       "\n",
       "                      MTR_Métier   MTR_ID MTE_Domaines          MTE_Diplôme  \\\n",
       "155266  Psychologue de l'enfance  MTR_267      Finance   Licence en Finance   \n",
       "169836  Psychologue de l'enfance  MTR_337     Médecine            Pharmacie   \n",
       "50778             Chef de projet  MTR_279      Finance    Master en Finance   \n",
       "219033            Responsable RH   MTR_34      Finance       BTS en Finance   \n",
       "80274        Ingénieur mécanique  MTR_275      Finance  Doctorat en Finance   \n",
       "\n",
       "                MTE_Compétences  \\\n",
       "155266       Analyse financière   \n",
       "169836                Chirurgie   \n",
       "50778   Gestion de portefeuille   \n",
       "219033       Marchés financiers   \n",
       "80274   Gestion de portefeuille   \n",
       "\n",
       "                                         MTE_Objectifs  \\\n",
       "155266  Acquérir des compétences en analyse financière   \n",
       "169836                       Comprendre la gynécologie   \n",
       "50778   Acquérir des compétences en analyse financière   \n",
       "219033  Acquérir des compétences en analyse financière   \n",
       "80274   Acquérir des compétences en analyse financière   \n",
       "\n",
       "                          MTE_Métier   MTE_ID     Score eval_score  \n",
       "155266                     Comptable  MTE_267  0.737865       High  \n",
       "169836                   Gynécologue  MTE_337  0.727273       High  \n",
       "50778                         Trader  MTE_279  0.703526       High  \n",
       "219033  Gestionnaire de portefeuille   MTE_34  0.703526       High  \n",
       "80274   Gestionnaire de portefeuille  MTE_275  0.703526       High  "
      ]
     },
     "execution_count": 82,
     "metadata": {},
     "output_type": "execute_result"
    }
   ],
   "source": [
    "full_matching_res.query(\"eval_score=='High'\")"
   ]
  },
  {
   "cell_type": "code",
   "execution_count": 24,
   "metadata": {},
   "outputs": [],
   "source": [
    "simple_matching_df, simple_mat= get_simple_matching_df(mtr_df,mte_df, mat)"
   ]
  },
  {
   "cell_type": "code",
   "execution_count": 25,
   "metadata": {},
   "outputs": [
    {
     "data": {
      "text/plain": [
       "(250000, 8)"
      ]
     },
     "execution_count": 25,
     "metadata": {},
     "output_type": "execute_result"
    }
   ],
   "source": [
    "simple_matching_df.shape"
   ]
  },
  {
   "cell_type": "markdown",
   "metadata": {},
   "source": [
    "### Saving data"
   ]
  },
  {
   "cell_type": "code",
   "execution_count": 26,
   "metadata": {},
   "outputs": [],
   "source": [
    "# full_matching_res.to_csv(\"full_mentor_mentee_matching_df.csv\")\n",
    "# simple_matching_df.to_csv(\"simple_mentor_mentee_matching_df.csv\")"
   ]
  },
  {
   "cell_type": "code",
   "execution_count": 27,
   "metadata": {},
   "outputs": [],
   "source": [
    "# simple_mat.to_csv(\"pairwise_matching_score.csv\")"
   ]
  },
  {
   "cell_type": "code",
   "execution_count": 28,
   "metadata": {},
   "outputs": [],
   "source": [
    "from sklearn.preprocessing import OrdinalEncoder"
   ]
  },
  {
   "cell_type": "markdown",
   "metadata": {},
   "source": [
    "### Using user input to recommand mentor"
   ]
  },
  {
   "cell_type": "code",
   "execution_count": 29,
   "metadata": {},
   "outputs": [],
   "source": [
    "# import pandas as pd\n",
    "# import numpy as np\n",
    "\n",
    "# # Créez une grille de toutes les paires possibles de mentors et mentorés\n",
    "# mentoré_indices, mentor_indices = np.meshgrid(np.arange(len(mentorees_data)), np.arange(len(mentors_data)))\n",
    "# mentoré_indices = mentoré_indices.flatten()\n",
    "# mentor_indices = mentor_indices.flatten()\n",
    "\n",
    "# # Extrait les données pertinentes\n",
    "# mentoré_data = mentorees_data.iloc[mentoré_indices]\n",
    "# mentor_data = mentors_data.iloc[mentor_indices]\n",
    "# similarity_scores = similarities[mentor_indices, mentoré_indices]\n",
    "\n",
    "# # Créez le DataFrame\n",
    "# resultat = pd.DataFrame({\n",
    "#     \"Mentor\": mentor_data[\"Prénom\"] + \" \" + mentor_data[\"Nom\"],\n",
    "#     \"Mentor_id\": mentor_data[\"ID\"],\n",
    "#     \"Mentee\": mentoré_data[\"Prénom\"] + \" \" + mentoré_data[\"Nom\"],\n",
    "#     \"Mentee_id\": mentoré_data[\"ID\"],\n",
    "#     \"Diplome_mentor\": mentor_data[\"Diplôme\"],\n",
    "#     \"Diplome_mentee\": mentoré_data[\"Diplôme\"]})\n"
   ]
  },
  {
   "cell_type": "code",
   "execution_count": 30,
   "metadata": {},
   "outputs": [],
   "source": [
    "def recommand_ideal_mentor(df_arg, user_input_df):\n",
    "    features = user_input_df.columns\n",
    "    mentors_data =df_arg.query(\"Profil=='Mentor'\")\n",
    "    mentors_df_tmp = mentors_data[features]\n",
    "    oH_encoder = OrdinalEncoder()\n",
    "    # encoder.get\n",
    "    mentor_feat = oH_encoder.fit_transform(mentors_df_tmp)\n",
    "    mentee_feat = oH_encoder.fit_transform(user_input_df)\n",
    "    # print(mentor_feat.shape)\n",
    "    similarity_mat = cosine_similarity(mentor_feat,mentee_feat, dense_output=True)\n",
    "    return similarity_mat"
   ]
  },
  {
   "cell_type": "markdown",
   "metadata": {},
   "source": [
    "### Test rapide de prédiction d'un modelèle "
   ]
  },
  {
   "cell_type": "code",
   "execution_count": 35,
   "metadata": {},
   "outputs": [],
   "source": [
    "from sklearn.ensemble import RandomForestRegressor\n",
    "from sklearn.ensemble import GradientBoostingRegressor\n",
    "from sklearn.linear_model import LinearRegression\n",
    "from sklearn.model_selection import train_test_split\n",
    "from sklearn.metrics import mean_absolute_percentage_error\n",
    "from sklearn.preprocessing import OrdinalEncoder"
   ]
  },
  {
   "cell_type": "code",
   "execution_count": 36,
   "metadata": {},
   "outputs": [
    {
     "data": {
      "text/plain": [
       "Index(['MTR_Domaines', 'MTR_Diplôme', 'MTR_Compétences', 'MTR_Objectifs',\n",
       "       'MTR_Métier', 'MTR_ID', 'MTE_Domaines', 'MTE_Diplôme',\n",
       "       'MTE_Compétences', 'MTE_Objectifs', 'MTE_Métier', 'MTE_ID', 'Score',\n",
       "       'eval_score'],\n",
       "      dtype='object')"
      ]
     },
     "execution_count": 36,
     "metadata": {},
     "output_type": "execute_result"
    }
   ],
   "source": [
    "full_matching_res.columns"
   ]
  },
  {
   "cell_type": "code",
   "execution_count": 37,
   "metadata": {},
   "outputs": [],
   "source": [
    "full_matching_res=full_matching_res[full_matching_res[\"Score\"]>=0]\n",
    "mtr_feat = ['MTR_Domaines', 'MTR_Diplôme', 'MTR_Compétences', 'MTR_Objectifs','MTR_Métier']\n",
    "mte_feat =['MTE_Domaines', 'MTE_Diplôme', 'MTE_Compétences', 'MTE_Objectifs','MTE_Métier']\n",
    "# mte_feat = ['MTE_Domaines','MTE_Compétences','MTE_Métier']"
   ]
  },
  {
   "cell_type": "code",
   "execution_count": 38,
   "metadata": {},
   "outputs": [],
   "source": [
    "X= full_matching_res[mte_feat]\n",
    "y = full_matching_res[\"Score\"]"
   ]
  },
  {
   "cell_type": "markdown",
   "metadata": {},
   "source": [
    "### Processing using tfv"
   ]
  },
  {
   "cell_type": "code",
   "execution_count": 84,
   "metadata": {},
   "outputs": [
    {
     "name": "stdout",
     "output_type": "stream",
     "text": [
      "159386122644491.78\n"
     ]
    },
    {
     "data": {
      "text/plain": [
       "array([0.10481523, 0.10318099, 0.11339316, ..., 0.10916392, 0.08958906,\n",
       "       0.09315166])"
      ]
     },
     "execution_count": 84,
     "metadata": {},
     "output_type": "execute_result"
    }
   ],
   "source": [
    "tfv = TfidfVectorizer()\n",
    "corpus = X.copy().apply(lambda x: ''.join(x),axis=1)\n",
    "# tfv.build_preprocessor()\n",
    "# tfv.build_tokenizer()\n",
    "transformed_x = tfv.fit_transform(corpus)\n",
    "xtrain, xtest, ytrain,ytest = train_test_split(transformed_x,y,test_size=0.20,random_state=42)\n",
    "test_model =LinearRegression()\n",
    "test_model.fit(xtrain, ytrain)\n",
    "y_pred =test_model.predict(transformed_x)\n",
    "print(mean_absolute_percentage_error(y,y_pred))\n",
    "y_pred"
   ]
  },
  {
   "cell_type": "markdown",
   "metadata": {},
   "source": [
    "#### Useful functions "
   ]
  },
  {
   "cell_type": "code",
   "execution_count": 85,
   "metadata": {},
   "outputs": [],
   "source": [
    "from matplotlib import axis\n",
    "def process_data(user_inp_df, method=\"OrdEncoding\"):\n",
    "    oh =OrdinalEncoder()\n",
    "    x_encoded = oh.fit_transform(user_inp_df)\n",
    "    return x_encoded\n",
    "def get_user_input():\n",
    "    feat =[\"Domaines\",\"Diplôme\",\"Compétences\",\"Objectifs\",\"Métier\"]\n",
    "    user_input = {k:[input(f\"Please Enter {k}\")] for  k in feat}\n",
    "    return process_data(pd.DataFrame(user_input))"
   ]
  },
  {
   "cell_type": "code",
   "execution_count": 41,
   "metadata": {},
   "outputs": [],
   "source": [
    "def fit_model(x, y, model_name=\"rF\"):\n",
    "    algo_dict ={\"rF\":RandomForestRegressor(),\"gRb\":GradientBoostingRegressor(),\"lr\":LinearRegression()}\n",
    "    xtrain, xtest, ytrain,ytest = train_test_split(x,y,test_size=0.20,random_state=42)\n",
    "    current_algo = algo_dict[model_name]\n",
    "    model= current_algo.fit(xtrain,ytrain)\n",
    "    pred = model.predict(xtest)\n",
    "    mape = np.round(mean_absolute_percentage_error(ytest,pred)*100,2)\n",
    "    print(f\" MAPE for {model_name} algorithm is {mape} %\")\n",
    "    return model, pred"
   ]
  },
  {
   "cell_type": "code",
   "execution_count": 63,
   "metadata": {},
   "outputs": [
    {
     "name": "stdout",
     "output_type": "stream",
     "text": [
      " MAPE for gRb algorithm is 1.6202282401879454e+16 %\n"
     ]
    }
   ],
   "source": [
    "encoded_x = process_data(X)\n",
    "model, pred = fit_model(encoded_x,y,\"gRb\")"
   ]
  },
  {
   "cell_type": "code",
   "execution_count": 64,
   "metadata": {},
   "outputs": [
    {
     "data": {
      "text/plain": [
       "array([0.1017555 , 0.11085346, 0.10290839, ..., 0.1088135 , 0.09769438,\n",
       "       0.0964884 ])"
      ]
     },
     "execution_count": 64,
     "metadata": {},
     "output_type": "execute_result"
    }
   ],
   "source": [
    "pred"
   ]
  },
  {
   "cell_type": "markdown",
   "metadata": {},
   "source": [
    "#### feature importance for ensemblist model"
   ]
  },
  {
   "cell_type": "code",
   "execution_count": 57,
   "metadata": {},
   "outputs": [
    {
     "data": {
      "text/plain": [
       "<AxesSubplot:>"
      ]
     },
     "execution_count": 57,
     "metadata": {},
     "output_type": "execute_result"
    },
    {
     "data": {
      "image/png": "[encoded data removed]",
      "text/plain": [
       "<Figure size 640x480 with 1 Axes>"
      ]
     },
     "metadata": {},
     "output_type": "display_data"
    }
   ],
   "source": [
    "\n",
    "feat_im = dict(zip(mtr_feat, list(model.feature_importances_)))\n",
    "pd.DataFrame(feat_im, index=range(len(feat_im))).loc[0].plot.barh()"
   ]
  },
  {
   "cell_type": "markdown",
   "metadata": {},
   "source": [
    "### Test with never seen data"
   ]
  },
  {
   "cell_type": "code",
   "execution_count": 65,
   "metadata": {},
   "outputs": [],
   "source": [
    "test_df = pd.read_csv(\"dataset_mentoring_100_domains_coherent.csv\")"
   ]
  },
  {
   "cell_type": "code",
   "execution_count": 66,
   "metadata": {},
   "outputs": [],
   "source": [
    "test_df_res = test_df[[\"Domaines\",\"Diplôme\",\"Compétences\",\"Objectifs\",\"Métier\"]]\n",
    "test_processed = process_data(test_df_res)"
   ]
  },
  {
   "cell_type": "code",
   "execution_count": 67,
   "metadata": {},
   "outputs": [
    {
     "data": {
      "text/plain": [
       "array([0.11069746, 0.109517  , 0.1172739 , ..., 0.11509245, 0.09946885,\n",
       "       0.101854  ])"
      ]
     },
     "execution_count": 67,
     "metadata": {},
     "output_type": "execute_result"
    }
   ],
   "source": [
    "res = model.predict(test_processed)\n",
    "res"
   ]
  },
  {
   "cell_type": "markdown",
   "metadata": {},
   "source": [
    "### Test with user input data"
   ]
  },
  {
   "cell_type": "code",
   "execution_count": 75,
   "metadata": {},
   "outputs": [],
   "source": [
    "user_input_df = get_user_input()"
   ]
  },
  {
   "cell_type": "code",
   "execution_count": 76,
   "metadata": {},
   "outputs": [
    {
     "data": {
      "text/plain": [
       "array([[0., 0., 0., 0., 0.]])"
      ]
     },
     "execution_count": 76,
     "metadata": {},
     "output_type": "execute_result"
    }
   ],
   "source": [
    "user_input_df"
   ]
  },
  {
   "cell_type": "code",
   "execution_count": 77,
   "metadata": {},
   "outputs": [
    {
     "data": {
      "text/plain": [
       "array([0.07213818])"
      ]
     },
     "execution_count": 77,
     "metadata": {},
     "output_type": "execute_result"
    }
   ],
   "source": [
    "model.predict(user_input_df)"
   ]
  }
 ],
 "metadata": {
  "kernelspec": {
   "display_name": "base",
   "language": "python",
   "name": "python3"
  },
  "language_info": {
   "codemirror_mode": {
    "name": "ipython",
    "version": 3
   },
   "file_extension": ".py",
   "mimetype": "text/x-python",
   "name": "python",
   "nbconvert_exporter": "python",
   "pygments_lexer": "ipython3",
   "version": "3.9.13"
  },
  "orig_nbformat": 4
 },
 "nbformat": 4,
 "nbformat_minor": 2
}
