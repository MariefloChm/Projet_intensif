{
 "cells": [
  {
   "cell_type": "markdown",
   "metadata": {},
   "source": [
    "### Création dataset"
   ]
  },
  {
   "cell_type": "code",
   "execution_count": 21,
   "metadata": {},
   "outputs": [],
   "source": [
    "import pandas as pd\n",
    "import random\n",
    "import numpy as np\n",
    "import matplotlib.pyplot as plt \n",
    "\n",
    "def generate_user_data(profil,n_rows):\n",
    "    # Créer des listes de domaines de diplômes, compétences, objectifs et métiers associés\n",
    "    domaines = [\n",
    "        \"Informatique\",\n",
    "        \"Finance\",\n",
    "        \"Psychologie\",\n",
    "        \"Marketing\",\n",
    "        \"Gestion\",\n",
    "        \"Médecine\",\n",
    "        \"Ressources Humaines\",\n",
    "        \"Art\",\n",
    "        \"Éducation\",\n",
    "        \"Ingénierie\",\n",
    "        # Ajoutez ici d'autres domaines de diplômes\n",
    "    ]\n",
    "\n",
    "    diplomes_par_domaine = {\n",
    "        \"Informatique\": [\"Licence en Informatique\", \"Master en Informatique\", \"Doctorat en Informatique\", \"Ingénieur en Informatique\", \"BTS en Informatique\"],\n",
    "        \"Finance\": [\"Licence en Finance\", \"Master en Finance\", \"Doctorat en Finance\", \"MBA en Finance\", \"BTS en Finance\"],\n",
    "        \"Psychologie\": [\"Licence en Psychologie\", \"Master en Psychologie\", \"Doctorat en Psychologie\", \"BTS en Psychologie\", \"Certificat en Psychologie\"],\n",
    "        \"Marketing\": [\"Licence en Marketing\", \"Master en Marketing\", \"Doctorat en Marketing\", \"BTS en Marketing\", \"Certificat en Marketing\"],\n",
    "        \"Gestion\": [\"Licence en Gestion\", \"Master en Gestion\", \"Doctorat en Gestion\", \"MBA en Gestion\", \"BTS en Gestion\"],\n",
    "        \"Médecine\": [\"Doctorat en Médecine\", \"Internat en Médecine\", \"DES en Médecine\", \"DFASM en Médecine\", \"Pharmacie\"],\n",
    "        \"Ressources Humaines\": [\"Licence en Ressources Humaines\", \"Master en Ressources Humaines\", \"Doctorat en Ressources Humaines\", \"BTS en Ressources Humaines\", \"Certificat en Ressources Humaines\"],\n",
    "        \"Art\": [\"Licence en Arts Plastiques\", \"Master en Arts Numériques\", \"Diplôme en Sculpture\", \"BTS en Design Graphique\", \"Certificat en Peinture\"],\n",
    "        \"Éducation\": [\"Licence en Sciences de l'Éducation\", \"Master en Pédagogie\", \"Doctorat en Éducation\", \"BTS en Éducation\", \"Certificat en Didactique\"],\n",
    "        \"Ingénierie\": [\"Diplôme d'Ingénieur\", \"Master en Ingénierie\", \"Doctorat en Ingénierie\", \"BTS en Ingénierie\", \"Certificat en Ingénierie\"],\n",
    "        # Ajoutez ici d'autres diplômes par domaine\n",
    "    }\n",
    "\n",
    "    competences_par_domaine = {\n",
    "        \"Informatique\": [\"Programmation\", \"Analyse de données\", \"Sécurité informatique\", \"Développement web\"],\n",
    "        \"Finance\": [\"Analyse financière\", \"Gestion de portefeuille\", \"Comptabilité\", \"Marchés financiers\"],\n",
    "        \"Psychologie\": [\"Psychothérapie\", \"Évaluation psychologique\", \"Conseil en orientation professionnelle\", \"Psychologie de l'enfance\"],\n",
    "        \"Marketing\": [\"Marketing stratégique\", \"Analyse de marché\", \"Publicité\", \"Gestion de campagnes\"],\n",
    "        \"Gestion\": [\"Gestion de projet\", \"Gestion des ressources humaines\", \"Gestion financière\", \"Stratégie d'entreprise\"],\n",
    "        \"Médecine\": [\"Médecine interne\", \"Chirurgie\", \"Pédiatrie\", \"Gynécologie\"],\n",
    "        \"Ressources Humaines\": [\"Gestion des talents\", \"Formation\", \"Recrutement\", \"Relations de travail\"],\n",
    "        \"Art\": [\"Peinture\", \"Sculpture\", \"Arts numériques\", \"Design graphique\"],\n",
    "        \"Éducation\": [\"Pédagogie\", \"Psychologie de l'éducation\", \"Éducation spécialisée\", \"Didactique\"],\n",
    "        \"Ingénierie\": [\"Ingénierie mécanique\", \"Ingénierie électrique\", \"Ingénierie logicielle\", \"Ingénierie civile\"],\n",
    "        # Ajoutez ici d'autres domaines de compétences\n",
    "    }\n",
    "\n",
    "\n",
    "    objectifs_par_domaine = {\n",
    "        \"Informatique\": {\n",
    "            \"Mentor\": [\"Devenir expert en IA\", \"Créer des applications web\", \"Travailler en cybersécurité\"],\n",
    "            \"Mentoré\": [\"Apprendre la programmation\", \"Comprendre l'analyse de données\", \"Développer des compétences en développement web\"],\n",
    "        },\n",
    "        \"Finance\": {\n",
    "            \"Mentor\": [\"Devenir analyste financier senior\", \"Gérer des portefeuilles d'investissement complexes\"],\n",
    "            \"Mentoré\": [\"Acquérir des compétences en analyse financière\", \"Apprendre les bases de la comptabilité\"],\n",
    "        },\n",
    "        \"Psychologie\": {\n",
    "            \"Mentor\": [\"Devenir psychologue clinicien renommé\", \"Faire de la recherche en psychologie\"],\n",
    "            \"Mentoré\": [\"Développer des compétences en conseil en orientation\", \"Comprendre la psychologie de l'enfance\"],\n",
    "        },\n",
    "        \"Marketing\": {\n",
    "            \"Mentor\": [\"Devenir responsable marketing stratégique\", \"Gérer des campagnes publicitaires de grande envergure\"],\n",
    "            \"Mentoré\": [\"Apprendre les bases du marketing\", \"Comprendre l'analyse de marché\"],\n",
    "        },\n",
    "        \"Gestion\": {\n",
    "            \"Mentor\": [\"Devenir directeur général d'une grande entreprise\", \"Gérer des projets internationaux\"],\n",
    "            \"Mentoré\": [\"Apprendre les principes de gestion de projet\", \"Développer des compétences en gestion des ressources humaines\"],\n",
    "        },\n",
    "        \"Médecine\": {\n",
    "            \"Mentor\": [\"Devenir spécialiste en chirurgie\", \"Pratiquer la médecine pédiatrique\"],\n",
    "            \"Mentoré\": [\"Apprendre les bases de la médecine interne\", \"Comprendre la gynécologie\"],\n",
    "        },\n",
    "        \"Ressources Humaines\": {\n",
    "            \"Mentor\": [\"Devenir expert en gestion des talents\", \"Former le personnel dans de grandes organisations\"],\n",
    "            \"Mentoré\": [\"Acquérir des compétences en recrutement\", \"Comprendre la gestion des conflits au travail\"],\n",
    "        },\n",
    "        \"Art\": {\n",
    "            \"Mentor\": [\"Devenir artiste renommé\", \"Travailler sur des projets de design graphique innovants\"],\n",
    "            \"Mentoré\": [\"Apprendre les bases de la peinture\", \"Développer des compétences en arts numériques\"],\n",
    "        },\n",
    "        \"Éducation\": {\n",
    "            \"Mentor\": [\"Devenir un enseignant émérite\", \"Améliorer les méthodes d'enseignement\"],\n",
    "            \"Mentoré\": [\"Apprendre la pédagogie\", \"Comprendre la psychologie de l'éducation\"],\n",
    "        },\n",
    "        \"Ingénierie\": {\n",
    "            \"Mentor\": [\"Devenir ingénieur de renom\", \"Concevoir des produits mécaniques innovants\"],\n",
    "            \"Mentoré\": [\"Apprendre les bases de l'ingénierie électrique\", \"Comprendre la conception logicielle\"],\n",
    "        },\n",
    "        # Ajoutez ici d'autres domaines d'objectifs\n",
    "    }\n",
    "\n",
    "    metiers_par_domaine = {\n",
    "        \"Informatique\": [\"Développeur logiciel\", \"Ingénieur en cybersécurité\", \"Data scientist\", \"Développeur web\"],\n",
    "        \"Finance\": [\"Analyste financier\", \"Gestionnaire de portefeuille\", \"Comptable\", \"Trader\"],\n",
    "        \"Psychologie\": [\"Psychologue clinicien\", \"Psychologue scolaire\", \"Conseiller en orientation\", \"Psychologue de l'enfance\"],\n",
    "        \"Marketing\": [\"Responsable marketing\", \"Analyste de marché\", \"Chef de publicité\", \"Gestionnaire de campagnes\"],\n",
    "        \"Gestion\": [\"Chef de projet\", \"Responsable des ressources humaines\", \"Contrôleur financier\", \"Directeur général\"],\n",
    "        \"Médecine\": [\"Médecin généraliste\", \"Chirurgien\", \"Pédiatre\", \"Gynécologue\"],\n",
    "        \"Ressources Humaines\": [\"Responsable RH\", \"Formateur\", \"Recruteur\", \"Médiateur en conflits\"],\n",
    "        \"Art\": [\"Artiste\", \"Sculpteur\", \"Designer graphique\", \"Artiste numérique\"],\n",
    "        \"Éducation\": [\"Enseignant\", \"Psychopédagogue\", \"Éducateur spécialisé\", \"Didacticien\"],\n",
    "        \"Ingénierie\": [\"Ingénieur mécanique\", \"Ingénieur électrique\", \"Ingénieur logiciel\", \"Ingénieur civil\"],\n",
    "        # Ajoutez ici d'autres métiers par domaine\n",
    "    }\n",
    "\n",
    "    entreprises_par_domaine = {\n",
    "        \"Informatique\": [\"Google\", \"Microsoft\", \"Apple\", \"Amazon\", \"IBM\"],\n",
    "        \"Finance\": [\"Goldman Sachs\", \"JPMorgan Chase\", \"Morgan Stanley\", \"Citigroup\", \"Bank of America\"],\n",
    "        \"Psychologie\": [\"Mayo Clinic\", \"Cleveland Clinic\", \"Johns Hopkins Hospital\", \"Massachusetts General Hospital\", \"Stanford Health Care\"],\n",
    "        \"Marketing\": [\"Procter & Gamble\", \"Coca-Cola\", \"Nike\", \"McDonald's\", \"Amazon Advertising\"],\n",
    "        \"Gestion\": [\"McKinsey & Company\", \"Boston Consulting Group\", \"Bain & Company\", \"Deloitte\", \"PwC\"],\n",
    "        \"Médecine\": [\"Mayo Clinic\", \"Cleveland Clinic\", \"Johns Hopkins Hospital\", \"Massachusetts General Hospital\", \"Stanford Health Care\"],\n",
    "        \"Ressources Humaines\": [\"ADP\", \"Randstad\", \"Adecco\", \"ManpowerGroup\", \"Kelly Services\"],\n",
    "        \"Art\": [\"Sotheby's\", \"Christie's\", \"Gagosian Gallery\", \"Saatchi Gallery\", \"The Louvre\"],\n",
    "        \"Éducation\": [\"Harvard University\", \"Stanford University\", \"University of Cambridge\", \"Massachusetts Institute of Technology\", \"Oxford University\"],\n",
    "        \"Ingénierie\": [\"General Electric\", \"Siemens\", \"Boeing\", \"Lockheed Martin\", \"Airbus\"],\n",
    "        # Ajoutez ici d'autres entreprises par domaine\n",
    "    }\n",
    "    user_ID = {\"Mentor\":[\"MTR_\"+str(c) for c in list(range(1,n_rows+1))],\"Mentoré\":[\"MTE_\"+str(c) for c in list(range(1,n_rows+1))]}\n",
    "\n",
    "    # Générer des données pour chaque domaine\n",
    "    data = {\n",
    "        'ID': user_ID[profil],\n",
    "        'Prénom': [random.choice([\"Marie\", \"Julien\", \"Sophie\", \"Thomas\", \"Laura\", \"Marc\", \"Sophie\", \"Pierre\", \"Emilie\", \"Antoine\"]) for _ in range(n_rows)],\n",
    "        'Nom': [random.choice([\"Dupont\", \"Lambert\", \"Martin\", \"Roussel\", \"Bertrand\", \"Lefebvre\", \"Girard\", \"Dupuis\", \"Moreau\", \"Dubois\"]) for _ in range(n_rows)],\n",
    "        'Domaines': [],\n",
    "        'Diplôme': [],\n",
    "        'Compétences': [],\n",
    "        'Objectifs': [],\n",
    "        'Profil': [],\n",
    "        'Métier': [],\n",
    "        'Années d\\'expérience': [],\n",
    "        'Notation': [],\n",
    "        'Évaluation': [],\n",
    "        'Description de la personnalité': [],\n",
    "        'Université d\\'études': [],\n",
    "        'Parcours Professionnel': [],\n",
    "        'Historiques d\\'interaction': [],\n",
    "        'Tarif horaire en euros': [],\n",
    "        'Langue parlée': [],\n",
    "        'Localisation': [],\n",
    "        'Disponibilité':[]\n",
    "    }\n",
    "\n",
    "    for i in range(n_rows):\n",
    "        domaine = random.choice(domaines)\n",
    "        diplome = random.choice(diplomes_par_domaine[domaine])\n",
    "        metier = random.choice(metiers_par_domaine[domaine])\n",
    "        # profil =''.join(str(e) for e in random.choices([\"Mentor\", \"Mentoré\"], weights=[1/2,1/2]))\n",
    "        user_profil = random.choice([profil])\n",
    "        disponibilité=random.randint(1,3)\n",
    "        # print(len(disponibilité))\n",
    "        # print(len(localisation))\n",
    "        historiques_interaction = random.randint(0, 20)\n",
    "        tarif_horaire = 0\n",
    "        langue_parlee = random.choice([\"Français\", \"Anglais\",\"Bilingue\"])\n",
    "        localisation = random.choice([\"Paris\", \"Lyon\", \"Marseille\", \"Toulouse\", \"Bordeaux\", \"Lille\", \"Strasbourg\", \"Nantes\", \"Montpellier\", \"Rennes\"])\n",
    "        if user_profil== \"Mentor\":\n",
    "            annees_experience = random.randint(5, 30)\n",
    "            objectifs = random.choice(objectifs_par_domaine[domaine][user_profil])\n",
    "            notation = random.randint(1, 5)\n",
    "            evaluation = \"Très bien\" if notation == 5 else \"Bien\" if notation == 4 else \"Moyen\" if notation == 3 else \"Passable\" if notation == 2 else \"Médiocre\"\n",
    "            description_personnalite = random.choice([\"Sympathique et patient\", \"Créatif et innovant\", \"Analytique et organisé\", \"Sociable et communicatif\", \"Dynamique et enthousiaste\"])\n",
    "            universite_etudes = random.choice([\"Université de Paris\", \"Université de Lyon\", \"Université de Marseille\", \"Université de Toulouse\", \"Université de Bordeaux\"])\n",
    "            entreprises = random.sample(entreprises_par_domaine[domaine], random.randint(1, 5))\n",
    "            # durees = [random.randint(1, 10) for _ in range(len(entreprises))]\n",
    "            parcours_professionnel = \", \".join([f\"{entreprises[j]}\" for j in range(len(entreprises))])\n",
    "            if historiques_interaction > 10:\n",
    "                tarif_horaire = 35*notation\n",
    "            elif historiques_interaction >= 5 and historiques_interaction <= 10:\n",
    "                tarif_horaire = 25*notation\n",
    "            else:\n",
    "                tarif_horaire = 15*notation\n",
    "            \n",
    "        elif user_profil==\"Mentoré\":\n",
    "            annees_experience = random.randint(0, 5)\n",
    "            objectifs = random.choice(objectifs_par_domaine[domaine][user_profil])\n",
    "            annees_experience = random.randint(0, 5)\n",
    "            notation = np.nan\n",
    "            evaluation = np.nan\n",
    "            tarif_horaire=np.nan\n",
    "            description_personnalite = random.choice([\"Sympathique et patient\", \"Créatif et innovant\", \"Analytique et organisé\", \"Sociable et communicatif\", \"Dynamique et enthousiaste\"])\n",
    "            universite_etudes = random.choice([\"Université de Paris\", \"Université de Lyon\", \"Université de Marseille\", \"Université de Toulouse\", \"Université de Bordeaux\"])\n",
    "            if annees_experience==0:\n",
    "                    parcours_professionnel = random.choice([\"En recherche d'alternance\", \"En recherche d'un premier emploi\", \"En recherche de stage\"]) + f\" en {domaine}\"\n",
    "            else:\n",
    "                entreprises = random.sample(entreprises_par_domaine[domaine], random.randint(1, 5))\n",
    "                durees = [random.randint(1, 10) for _ in range(len(entreprises))]\n",
    "                parcours_professionnel = \", \".join([f\"{entreprises[j]}\" for j in range(len(entreprises))])\n",
    "        else:\n",
    "            print(\"no corresponding_profil\")\n",
    "            \n",
    "\n",
    "        # diplome = domaine\n",
    "        competences = random.choice(competences_par_domaine[domaine])\n",
    "        data['Domaines'].append(domaine)\n",
    "        data['Diplôme'].append(diplome)\n",
    "        data['Compétences'].append(competences)\n",
    "        data['Objectifs'].append(objectifs)\n",
    "        data['Métier'].append(metier)\n",
    "        data['Profil'].append(user_profil)\n",
    "        data['Années d\\'expérience'].append(annees_experience)\n",
    "        data['Notation'].append(notation)\n",
    "        data['Évaluation'].append(evaluation)\n",
    "        data['Description de la personnalité'].append(description_personnalite)\n",
    "        data['Université d\\'études'].append(universite_etudes)\n",
    "        data['Parcours Professionnel'].append(parcours_professionnel)\n",
    "        data['Historiques d\\'interaction'].append(historiques_interaction)\n",
    "        data['Tarif horaire en euros'].append(tarif_horaire)\n",
    "        data['Langue parlée'].append(langue_parlee)\n",
    "        data['Localisation'].append(localisation)\n",
    "        data['Disponibilité'].append(disponibilité)\n",
    "    df = pd.DataFrame(data)\n",
    "    df.reset_index(inplace=True,drop=True)\n",
    "    return df\n",
    "# generate_user_data(\"Mentor\",10)\n",
    "\n",
    "def create_full_data(n_rows):\n",
    "    mentors_data = generate_user_data(\"Mentor\",n_rows)\n",
    "    mentees_data = generate_user_data(\"Mentoré\", n_rows)\n",
    "    full_data = pd.concat([mentors_data, mentees_data],axis=0)\n",
    "    full_data.to_csv('full_dataset.csv', index=False)\n",
    "nrows = int(eval(input(\"enter rows numbr\")))\n",
    "create_full_data(nrows)"
   ]
  },
  {
   "cell_type": "code",
   "execution_count": 22,
   "metadata": {},
   "outputs": [],
   "source": [
    "df = pd.read_csv('full_dataset.csv')"
   ]
  },
  {
   "cell_type": "code",
   "execution_count": 23,
   "metadata": {},
   "outputs": [
    {
     "data": {
      "text/html": [
       "<div>\n",
       "<style scoped>\n",
       "    .dataframe tbody tr th:only-of-type {\n",
       "        vertical-align: middle;\n",
       "    }\n",
       "\n",
       "    .dataframe tbody tr th {\n",
       "        vertical-align: top;\n",
       "    }\n",
       "\n",
       "    .dataframe thead th {\n",
       "        text-align: right;\n",
       "    }\n",
       "</style>\n",
       "<table border=\"1\" class=\"dataframe\">\n",
       "  <thead>\n",
       "    <tr style=\"text-align: right;\">\n",
       "      <th></th>\n",
       "      <th>ID</th>\n",
       "      <th>Prénom</th>\n",
       "      <th>Nom</th>\n",
       "      <th>Domaines</th>\n",
       "      <th>Diplôme</th>\n",
       "      <th>Compétences</th>\n",
       "      <th>Objectifs</th>\n",
       "      <th>Profil</th>\n",
       "      <th>Métier</th>\n",
       "      <th>Années d'expérience</th>\n",
       "      <th>Notation</th>\n",
       "      <th>Évaluation</th>\n",
       "      <th>Description de la personnalité</th>\n",
       "      <th>Université d'études</th>\n",
       "      <th>Parcours Professionnel</th>\n",
       "      <th>Historiques d'interaction</th>\n",
       "      <th>Tarif horaire en euros</th>\n",
       "      <th>Langue parlée</th>\n",
       "      <th>Localisation</th>\n",
       "      <th>Disponibilité</th>\n",
       "    </tr>\n",
       "  </thead>\n",
       "  <tbody>\n",
       "    <tr>\n",
       "      <th>195</th>\n",
       "      <td>MTE_96</td>\n",
       "      <td>Emilie</td>\n",
       "      <td>Lefebvre</td>\n",
       "      <td>Médecine</td>\n",
       "      <td>Doctorat en Médecine</td>\n",
       "      <td>Gynécologie</td>\n",
       "      <td>Apprendre les bases de la médecine interne</td>\n",
       "      <td>Mentoré</td>\n",
       "      <td>Gynécologue</td>\n",
       "      <td>4</td>\n",
       "      <td>NaN</td>\n",
       "      <td>NaN</td>\n",
       "      <td>Sociable et communicatif</td>\n",
       "      <td>Université de Toulouse</td>\n",
       "      <td>Cleveland Clinic, Massachusetts General Hospit...</td>\n",
       "      <td>19</td>\n",
       "      <td>NaN</td>\n",
       "      <td>Anglais</td>\n",
       "      <td>Toulouse</td>\n",
       "      <td>1</td>\n",
       "    </tr>\n",
       "    <tr>\n",
       "      <th>196</th>\n",
       "      <td>MTE_97</td>\n",
       "      <td>Laura</td>\n",
       "      <td>Bertrand</td>\n",
       "      <td>Ingénierie</td>\n",
       "      <td>Diplôme d'Ingénieur</td>\n",
       "      <td>Ingénierie civile</td>\n",
       "      <td>Apprendre les bases de l'ingénierie électrique</td>\n",
       "      <td>Mentoré</td>\n",
       "      <td>Ingénieur mécanique</td>\n",
       "      <td>3</td>\n",
       "      <td>NaN</td>\n",
       "      <td>NaN</td>\n",
       "      <td>Dynamique et enthousiaste</td>\n",
       "      <td>Université de Toulouse</td>\n",
       "      <td>General Electric, Boeing</td>\n",
       "      <td>8</td>\n",
       "      <td>NaN</td>\n",
       "      <td>Français</td>\n",
       "      <td>Bordeaux</td>\n",
       "      <td>2</td>\n",
       "    </tr>\n",
       "    <tr>\n",
       "      <th>197</th>\n",
       "      <td>MTE_98</td>\n",
       "      <td>Sophie</td>\n",
       "      <td>Girard</td>\n",
       "      <td>Médecine</td>\n",
       "      <td>DFASM en Médecine</td>\n",
       "      <td>Chirurgie</td>\n",
       "      <td>Apprendre les bases de la médecine interne</td>\n",
       "      <td>Mentoré</td>\n",
       "      <td>Pédiatre</td>\n",
       "      <td>5</td>\n",
       "      <td>NaN</td>\n",
       "      <td>NaN</td>\n",
       "      <td>Analytique et organisé</td>\n",
       "      <td>Université de Marseille</td>\n",
       "      <td>Stanford Health Care, Cleveland Clinic</td>\n",
       "      <td>20</td>\n",
       "      <td>NaN</td>\n",
       "      <td>Bilingue</td>\n",
       "      <td>Nantes</td>\n",
       "      <td>3</td>\n",
       "    </tr>\n",
       "    <tr>\n",
       "      <th>198</th>\n",
       "      <td>MTE_99</td>\n",
       "      <td>Thomas</td>\n",
       "      <td>Moreau</td>\n",
       "      <td>Médecine</td>\n",
       "      <td>Internat en Médecine</td>\n",
       "      <td>Médecine interne</td>\n",
       "      <td>Apprendre les bases de la médecine interne</td>\n",
       "      <td>Mentoré</td>\n",
       "      <td>Médecin généraliste</td>\n",
       "      <td>5</td>\n",
       "      <td>NaN</td>\n",
       "      <td>NaN</td>\n",
       "      <td>Créatif et innovant</td>\n",
       "      <td>Université de Marseille</td>\n",
       "      <td>Cleveland Clinic, Stanford Health Care, Mayo C...</td>\n",
       "      <td>5</td>\n",
       "      <td>NaN</td>\n",
       "      <td>Anglais</td>\n",
       "      <td>Montpellier</td>\n",
       "      <td>3</td>\n",
       "    </tr>\n",
       "    <tr>\n",
       "      <th>199</th>\n",
       "      <td>MTE_100</td>\n",
       "      <td>Antoine</td>\n",
       "      <td>Lambert</td>\n",
       "      <td>Ingénierie</td>\n",
       "      <td>Doctorat en Ingénierie</td>\n",
       "      <td>Ingénierie civile</td>\n",
       "      <td>Comprendre la conception logicielle</td>\n",
       "      <td>Mentoré</td>\n",
       "      <td>Ingénieur mécanique</td>\n",
       "      <td>0</td>\n",
       "      <td>NaN</td>\n",
       "      <td>NaN</td>\n",
       "      <td>Sociable et communicatif</td>\n",
       "      <td>Université de Marseille</td>\n",
       "      <td>En recherche d'un premier emploi en Ingénierie</td>\n",
       "      <td>18</td>\n",
       "      <td>NaN</td>\n",
       "      <td>Anglais</td>\n",
       "      <td>Lyon</td>\n",
       "      <td>1</td>\n",
       "    </tr>\n",
       "  </tbody>\n",
       "</table>\n",
       "</div>"
      ],
      "text/plain": [
       "          ID   Prénom       Nom    Domaines                 Diplôme  \\\n",
       "195   MTE_96   Emilie  Lefebvre    Médecine    Doctorat en Médecine   \n",
       "196   MTE_97    Laura  Bertrand  Ingénierie     Diplôme d'Ingénieur   \n",
       "197   MTE_98   Sophie    Girard    Médecine       DFASM en Médecine   \n",
       "198   MTE_99   Thomas    Moreau    Médecine    Internat en Médecine   \n",
       "199  MTE_100  Antoine   Lambert  Ingénierie  Doctorat en Ingénierie   \n",
       "\n",
       "           Compétences                                       Objectifs  \\\n",
       "195        Gynécologie      Apprendre les bases de la médecine interne   \n",
       "196  Ingénierie civile  Apprendre les bases de l'ingénierie électrique   \n",
       "197          Chirurgie      Apprendre les bases de la médecine interne   \n",
       "198   Médecine interne      Apprendre les bases de la médecine interne   \n",
       "199  Ingénierie civile             Comprendre la conception logicielle   \n",
       "\n",
       "      Profil               Métier  Années d'expérience  Notation Évaluation  \\\n",
       "195  Mentoré          Gynécologue                    4       NaN        NaN   \n",
       "196  Mentoré  Ingénieur mécanique                    3       NaN        NaN   \n",
       "197  Mentoré             Pédiatre                    5       NaN        NaN   \n",
       "198  Mentoré  Médecin généraliste                    5       NaN        NaN   \n",
       "199  Mentoré  Ingénieur mécanique                    0       NaN        NaN   \n",
       "\n",
       "    Description de la personnalité      Université d'études  \\\n",
       "195       Sociable et communicatif   Université de Toulouse   \n",
       "196      Dynamique et enthousiaste   Université de Toulouse   \n",
       "197         Analytique et organisé  Université de Marseille   \n",
       "198            Créatif et innovant  Université de Marseille   \n",
       "199       Sociable et communicatif  Université de Marseille   \n",
       "\n",
       "                                Parcours Professionnel  \\\n",
       "195  Cleveland Clinic, Massachusetts General Hospit...   \n",
       "196                           General Electric, Boeing   \n",
       "197             Stanford Health Care, Cleveland Clinic   \n",
       "198  Cleveland Clinic, Stanford Health Care, Mayo C...   \n",
       "199     En recherche d'un premier emploi en Ingénierie   \n",
       "\n",
       "     Historiques d'interaction  Tarif horaire en euros Langue parlée  \\\n",
       "195                         19                     NaN       Anglais   \n",
       "196                          8                     NaN      Français   \n",
       "197                         20                     NaN      Bilingue   \n",
       "198                          5                     NaN       Anglais   \n",
       "199                         18                     NaN       Anglais   \n",
       "\n",
       "    Localisation  Disponibilité  \n",
       "195     Toulouse              1  \n",
       "196     Bordeaux              2  \n",
       "197       Nantes              3  \n",
       "198  Montpellier              3  \n",
       "199         Lyon              1  "
      ]
     },
     "execution_count": 23,
     "metadata": {},
     "output_type": "execute_result"
    }
   ],
   "source": [
    "df.tail()"
   ]
  },
  {
   "cell_type": "code",
   "execution_count": 24,
   "metadata": {},
   "outputs": [
    {
     "data": {
      "text/plain": [
       "Profil\n",
       "Mentor     100\n",
       "Mentoré    100\n",
       "Name: count, dtype: int64"
      ]
     },
     "execution_count": 24,
     "metadata": {},
     "output_type": "execute_result"
    }
   ],
   "source": [
    "df[\"Profil\"].value_counts()"
   ]
  },
  {
   "cell_type": "markdown",
   "metadata": {},
   "source": [
    "### EDA"
   ]
  },
  {
   "cell_type": "code",
   "execution_count": 25,
   "metadata": {},
   "outputs": [
    {
     "data": {
      "text/plain": [
       "0"
      ]
     },
     "execution_count": 25,
     "metadata": {},
     "output_type": "execute_result"
    }
   ],
   "source": [
    "df.duplicated().sum()"
   ]
  },
  {
   "cell_type": "markdown",
   "metadata": {},
   "source": [
    "Il n'y pas de lignes dupliquées"
   ]
  },
  {
   "cell_type": "code",
   "execution_count": 26,
   "metadata": {},
   "outputs": [],
   "source": [
    "num_df =df.select_dtypes(include=[\"int\",\"float\"])"
   ]
  },
  {
   "cell_type": "code",
   "execution_count": 27,
   "metadata": {},
   "outputs": [
    {
     "data": {
      "text/html": [
       "<div>\n",
       "<style scoped>\n",
       "    .dataframe tbody tr th:only-of-type {\n",
       "        vertical-align: middle;\n",
       "    }\n",
       "\n",
       "    .dataframe tbody tr th {\n",
       "        vertical-align: top;\n",
       "    }\n",
       "\n",
       "    .dataframe thead th {\n",
       "        text-align: right;\n",
       "    }\n",
       "</style>\n",
       "<table border=\"1\" class=\"dataframe\">\n",
       "  <thead>\n",
       "    <tr style=\"text-align: right;\">\n",
       "      <th></th>\n",
       "      <th>Années d'expérience</th>\n",
       "      <th>Notation</th>\n",
       "      <th>Historiques d'interaction</th>\n",
       "      <th>Tarif horaire en euros</th>\n",
       "      <th>Disponibilité</th>\n",
       "    </tr>\n",
       "  </thead>\n",
       "  <tbody>\n",
       "    <tr>\n",
       "      <th>count</th>\n",
       "      <td>200.000000</td>\n",
       "      <td>100.000000</td>\n",
       "      <td>200.000000</td>\n",
       "      <td>100.000000</td>\n",
       "      <td>200.000000</td>\n",
       "    </tr>\n",
       "    <tr>\n",
       "      <th>mean</th>\n",
       "      <td>9.790000</td>\n",
       "      <td>3.040000</td>\n",
       "      <td>10.835000</td>\n",
       "      <td>86.100000</td>\n",
       "      <td>2.000000</td>\n",
       "    </tr>\n",
       "    <tr>\n",
       "      <th>std</th>\n",
       "      <td>8.690427</td>\n",
       "      <td>1.462805</td>\n",
       "      <td>6.115946</td>\n",
       "      <td>47.871777</td>\n",
       "      <td>0.808249</td>\n",
       "    </tr>\n",
       "    <tr>\n",
       "      <th>min</th>\n",
       "      <td>0.000000</td>\n",
       "      <td>1.000000</td>\n",
       "      <td>0.000000</td>\n",
       "      <td>15.000000</td>\n",
       "      <td>1.000000</td>\n",
       "    </tr>\n",
       "    <tr>\n",
       "      <th>25%</th>\n",
       "      <td>3.000000</td>\n",
       "      <td>2.000000</td>\n",
       "      <td>6.000000</td>\n",
       "      <td>42.500000</td>\n",
       "      <td>1.000000</td>\n",
       "    </tr>\n",
       "    <tr>\n",
       "      <th>50%</th>\n",
       "      <td>5.000000</td>\n",
       "      <td>3.000000</td>\n",
       "      <td>11.000000</td>\n",
       "      <td>75.000000</td>\n",
       "      <td>2.000000</td>\n",
       "    </tr>\n",
       "    <tr>\n",
       "      <th>75%</th>\n",
       "      <td>17.000000</td>\n",
       "      <td>4.000000</td>\n",
       "      <td>16.000000</td>\n",
       "      <td>125.000000</td>\n",
       "      <td>3.000000</td>\n",
       "    </tr>\n",
       "    <tr>\n",
       "      <th>max</th>\n",
       "      <td>30.000000</td>\n",
       "      <td>5.000000</td>\n",
       "      <td>20.000000</td>\n",
       "      <td>175.000000</td>\n",
       "      <td>3.000000</td>\n",
       "    </tr>\n",
       "  </tbody>\n",
       "</table>\n",
       "</div>"
      ],
      "text/plain": [
       "       Années d'expérience    Notation  Historiques d'interaction  \\\n",
       "count           200.000000  100.000000                 200.000000   \n",
       "mean              9.790000    3.040000                  10.835000   \n",
       "std               8.690427    1.462805                   6.115946   \n",
       "min               0.000000    1.000000                   0.000000   \n",
       "25%               3.000000    2.000000                   6.000000   \n",
       "50%               5.000000    3.000000                  11.000000   \n",
       "75%              17.000000    4.000000                  16.000000   \n",
       "max              30.000000    5.000000                  20.000000   \n",
       "\n",
       "       Tarif horaire en euros  Disponibilité  \n",
       "count              100.000000     200.000000  \n",
       "mean                86.100000       2.000000  \n",
       "std                 47.871777       0.808249  \n",
       "min                 15.000000       1.000000  \n",
       "25%                 42.500000       1.000000  \n",
       "50%                 75.000000       2.000000  \n",
       "75%                125.000000       3.000000  \n",
       "max                175.000000       3.000000  "
      ]
     },
     "execution_count": 27,
     "metadata": {},
     "output_type": "execute_result"
    }
   ],
   "source": [
    "num_df.describe()"
   ]
  },
  {
   "cell_type": "code",
   "execution_count": 28,
   "metadata": {},
   "outputs": [
    {
     "data": {
      "text/plain": [
       "array([[<Axes: title={'center': \"Années d'expérience\"}>,\n",
       "        <Axes: title={'center': 'Notation'}>],\n",
       "       [<Axes: title={'center': \"Historiques d'interaction\"}>,\n",
       "        <Axes: title={'center': 'Tarif horaire en euros'}>],\n",
       "       [<Axes: title={'center': 'Disponibilité'}>, <Axes: >]],\n",
       "      dtype=object)"
      ]
     },
     "execution_count": 28,
     "metadata": {},
     "output_type": "execute_result"
    },
    {
     "data": {
      "image/png": "[encoded data removed]",
      "text/plain": [
       "<Figure size 1600x800 with 6 Axes>"
      ]
     },
     "metadata": {},
     "output_type": "display_data"
    }
   ],
   "source": [
    "num_df.hist(figsize=(16,8))"
   ]
  },
  {
   "cell_type": "code",
   "execution_count": 29,
   "metadata": {},
   "outputs": [],
   "source": [
    "import seaborn as sns"
   ]
  },
  {
   "cell_type": "code",
   "execution_count": 30,
   "metadata": {},
   "outputs": [
    {
     "data": {
      "text/plain": [
       "<Axes: >"
      ]
     },
     "execution_count": 30,
     "metadata": {},
     "output_type": "execute_result"
    },
    {
     "data": {
      "image/png": "[encoded data removed]",
      "text/plain": [
       "<Figure size 640x480 with 2 Axes>"
      ]
     },
     "metadata": {},
     "output_type": "display_data"
    }
   ],
   "source": [
    "corr_mat =num_df.corr()\n",
    "\n",
    "sns.heatmap(corr_mat, annot=True, cmap=\"vlag\", fmt=\".2\")"
   ]
  },
  {
   "cell_type": "markdown",
   "metadata": {},
   "source": [
    "### Création d'un dataset labélisé avec un score de matching"
   ]
  },
  {
   "cell_type": "code",
   "execution_count": 31,
   "metadata": {},
   "outputs": [],
   "source": [
    "from sklearn.metrics.pairwise import cosine_similarity\n",
    "from sklearn.preprocessing import OneHotEncoder\n",
    "from sklearn.feature_extraction.text import TfidfVectorizer\n",
    "from sklearn.preprocessing import MinMaxScaler"
   ]
  },
  {
   "cell_type": "code",
   "execution_count": 32,
   "metadata": {},
   "outputs": [
    {
     "data": {
      "text/html": [
       "<div>\n",
       "<style scoped>\n",
       "    .dataframe tbody tr th:only-of-type {\n",
       "        vertical-align: middle;\n",
       "    }\n",
       "\n",
       "    .dataframe tbody tr th {\n",
       "        vertical-align: top;\n",
       "    }\n",
       "\n",
       "    .dataframe thead th {\n",
       "        text-align: right;\n",
       "    }\n",
       "</style>\n",
       "<table border=\"1\" class=\"dataframe\">\n",
       "  <thead>\n",
       "    <tr style=\"text-align: right;\">\n",
       "      <th></th>\n",
       "      <th>ID</th>\n",
       "      <th>Prénom</th>\n",
       "      <th>Nom</th>\n",
       "      <th>Domaines</th>\n",
       "      <th>Diplôme</th>\n",
       "      <th>Compétences</th>\n",
       "      <th>Objectifs</th>\n",
       "      <th>Profil</th>\n",
       "      <th>Métier</th>\n",
       "      <th>Années d'expérience</th>\n",
       "      <th>Notation</th>\n",
       "      <th>Évaluation</th>\n",
       "      <th>Description de la personnalité</th>\n",
       "      <th>Université d'études</th>\n",
       "      <th>Parcours Professionnel</th>\n",
       "      <th>Historiques d'interaction</th>\n",
       "      <th>Tarif horaire en euros</th>\n",
       "      <th>Langue parlée</th>\n",
       "      <th>Localisation</th>\n",
       "      <th>Disponibilité</th>\n",
       "    </tr>\n",
       "  </thead>\n",
       "  <tbody>\n",
       "    <tr>\n",
       "      <th>195</th>\n",
       "      <td>MTE_96</td>\n",
       "      <td>Emilie</td>\n",
       "      <td>Lefebvre</td>\n",
       "      <td>Médecine</td>\n",
       "      <td>Doctorat en Médecine</td>\n",
       "      <td>Gynécologie</td>\n",
       "      <td>Apprendre les bases de la médecine interne</td>\n",
       "      <td>Mentoré</td>\n",
       "      <td>Gynécologue</td>\n",
       "      <td>4</td>\n",
       "      <td>NaN</td>\n",
       "      <td>NaN</td>\n",
       "      <td>Sociable et communicatif</td>\n",
       "      <td>Université de Toulouse</td>\n",
       "      <td>Cleveland Clinic, Massachusetts General Hospit...</td>\n",
       "      <td>19</td>\n",
       "      <td>NaN</td>\n",
       "      <td>Anglais</td>\n",
       "      <td>Toulouse</td>\n",
       "      <td>1</td>\n",
       "    </tr>\n",
       "    <tr>\n",
       "      <th>196</th>\n",
       "      <td>MTE_97</td>\n",
       "      <td>Laura</td>\n",
       "      <td>Bertrand</td>\n",
       "      <td>Ingénierie</td>\n",
       "      <td>Diplôme d'Ingénieur</td>\n",
       "      <td>Ingénierie civile</td>\n",
       "      <td>Apprendre les bases de l'ingénierie électrique</td>\n",
       "      <td>Mentoré</td>\n",
       "      <td>Ingénieur mécanique</td>\n",
       "      <td>3</td>\n",
       "      <td>NaN</td>\n",
       "      <td>NaN</td>\n",
       "      <td>Dynamique et enthousiaste</td>\n",
       "      <td>Université de Toulouse</td>\n",
       "      <td>General Electric, Boeing</td>\n",
       "      <td>8</td>\n",
       "      <td>NaN</td>\n",
       "      <td>Français</td>\n",
       "      <td>Bordeaux</td>\n",
       "      <td>2</td>\n",
       "    </tr>\n",
       "    <tr>\n",
       "      <th>197</th>\n",
       "      <td>MTE_98</td>\n",
       "      <td>Sophie</td>\n",
       "      <td>Girard</td>\n",
       "      <td>Médecine</td>\n",
       "      <td>DFASM en Médecine</td>\n",
       "      <td>Chirurgie</td>\n",
       "      <td>Apprendre les bases de la médecine interne</td>\n",
       "      <td>Mentoré</td>\n",
       "      <td>Pédiatre</td>\n",
       "      <td>5</td>\n",
       "      <td>NaN</td>\n",
       "      <td>NaN</td>\n",
       "      <td>Analytique et organisé</td>\n",
       "      <td>Université de Marseille</td>\n",
       "      <td>Stanford Health Care, Cleveland Clinic</td>\n",
       "      <td>20</td>\n",
       "      <td>NaN</td>\n",
       "      <td>Bilingue</td>\n",
       "      <td>Nantes</td>\n",
       "      <td>3</td>\n",
       "    </tr>\n",
       "    <tr>\n",
       "      <th>198</th>\n",
       "      <td>MTE_99</td>\n",
       "      <td>Thomas</td>\n",
       "      <td>Moreau</td>\n",
       "      <td>Médecine</td>\n",
       "      <td>Internat en Médecine</td>\n",
       "      <td>Médecine interne</td>\n",
       "      <td>Apprendre les bases de la médecine interne</td>\n",
       "      <td>Mentoré</td>\n",
       "      <td>Médecin généraliste</td>\n",
       "      <td>5</td>\n",
       "      <td>NaN</td>\n",
       "      <td>NaN</td>\n",
       "      <td>Créatif et innovant</td>\n",
       "      <td>Université de Marseille</td>\n",
       "      <td>Cleveland Clinic, Stanford Health Care, Mayo C...</td>\n",
       "      <td>5</td>\n",
       "      <td>NaN</td>\n",
       "      <td>Anglais</td>\n",
       "      <td>Montpellier</td>\n",
       "      <td>3</td>\n",
       "    </tr>\n",
       "    <tr>\n",
       "      <th>199</th>\n",
       "      <td>MTE_100</td>\n",
       "      <td>Antoine</td>\n",
       "      <td>Lambert</td>\n",
       "      <td>Ingénierie</td>\n",
       "      <td>Doctorat en Ingénierie</td>\n",
       "      <td>Ingénierie civile</td>\n",
       "      <td>Comprendre la conception logicielle</td>\n",
       "      <td>Mentoré</td>\n",
       "      <td>Ingénieur mécanique</td>\n",
       "      <td>0</td>\n",
       "      <td>NaN</td>\n",
       "      <td>NaN</td>\n",
       "      <td>Sociable et communicatif</td>\n",
       "      <td>Université de Marseille</td>\n",
       "      <td>En recherche d'un premier emploi en Ingénierie</td>\n",
       "      <td>18</td>\n",
       "      <td>NaN</td>\n",
       "      <td>Anglais</td>\n",
       "      <td>Lyon</td>\n",
       "      <td>1</td>\n",
       "    </tr>\n",
       "  </tbody>\n",
       "</table>\n",
       "</div>"
      ],
      "text/plain": [
       "          ID   Prénom       Nom    Domaines                 Diplôme  \\\n",
       "195   MTE_96   Emilie  Lefebvre    Médecine    Doctorat en Médecine   \n",
       "196   MTE_97    Laura  Bertrand  Ingénierie     Diplôme d'Ingénieur   \n",
       "197   MTE_98   Sophie    Girard    Médecine       DFASM en Médecine   \n",
       "198   MTE_99   Thomas    Moreau    Médecine    Internat en Médecine   \n",
       "199  MTE_100  Antoine   Lambert  Ingénierie  Doctorat en Ingénierie   \n",
       "\n",
       "           Compétences                                       Objectifs  \\\n",
       "195        Gynécologie      Apprendre les bases de la médecine interne   \n",
       "196  Ingénierie civile  Apprendre les bases de l'ingénierie électrique   \n",
       "197          Chirurgie      Apprendre les bases de la médecine interne   \n",
       "198   Médecine interne      Apprendre les bases de la médecine interne   \n",
       "199  Ingénierie civile             Comprendre la conception logicielle   \n",
       "\n",
       "      Profil               Métier  Années d'expérience  Notation Évaluation  \\\n",
       "195  Mentoré          Gynécologue                    4       NaN        NaN   \n",
       "196  Mentoré  Ingénieur mécanique                    3       NaN        NaN   \n",
       "197  Mentoré             Pédiatre                    5       NaN        NaN   \n",
       "198  Mentoré  Médecin généraliste                    5       NaN        NaN   \n",
       "199  Mentoré  Ingénieur mécanique                    0       NaN        NaN   \n",
       "\n",
       "    Description de la personnalité      Université d'études  \\\n",
       "195       Sociable et communicatif   Université de Toulouse   \n",
       "196      Dynamique et enthousiaste   Université de Toulouse   \n",
       "197         Analytique et organisé  Université de Marseille   \n",
       "198            Créatif et innovant  Université de Marseille   \n",
       "199       Sociable et communicatif  Université de Marseille   \n",
       "\n",
       "                                Parcours Professionnel  \\\n",
       "195  Cleveland Clinic, Massachusetts General Hospit...   \n",
       "196                           General Electric, Boeing   \n",
       "197             Stanford Health Care, Cleveland Clinic   \n",
       "198  Cleveland Clinic, Stanford Health Care, Mayo C...   \n",
       "199     En recherche d'un premier emploi en Ingénierie   \n",
       "\n",
       "     Historiques d'interaction  Tarif horaire en euros Langue parlée  \\\n",
       "195                         19                     NaN       Anglais   \n",
       "196                          8                     NaN      Français   \n",
       "197                         20                     NaN      Bilingue   \n",
       "198                          5                     NaN       Anglais   \n",
       "199                         18                     NaN       Anglais   \n",
       "\n",
       "    Localisation  Disponibilité  \n",
       "195     Toulouse              1  \n",
       "196     Bordeaux              2  \n",
       "197       Nantes              3  \n",
       "198  Montpellier              3  \n",
       "199         Lyon              1  "
      ]
     },
     "execution_count": 32,
     "metadata": {},
     "output_type": "execute_result"
    }
   ],
   "source": [
    "df.tail()"
   ]
  },
  {
   "cell_type": "code",
   "execution_count": 34,
   "metadata": {},
   "outputs": [],
   "source": [
    "def get_similarity_data(data_arg, feature=[\"Domaines\",\"Diplôme\"]):\n",
    "    #Encodage one-hot des caractéristiques catégorielles\n",
    "    oH_encoder = OneHotEncoder(sparse=False, drop='first')\n",
    "    # encoder.get\n",
    "    oH_encoded_features = oH_encoder.fit_transform(data_arg[feature])\n",
    "    # scaler = MinMaxScaler()\n",
    "    # df_arg[num_feat] = scaler.fit_transform(df_work[num_feat])\n",
    "    # Créer un DataFrame avec les caractéristiques encodées\n",
    "    oH_encoded_df = pd.DataFrame(oH_encoded_features, columns=oH_encoder.get_feature_names_out(feature))\n",
    "    combined_data_encoded = pd.concat([data_arg,oH_encoded_df], axis=1)\n",
    "    mentors_data = combined_data_encoded.query(\"Profil=='Mentor'\")\n",
    "    # mentors_data = mentors_data[features]\n",
    "    mentorees_data = combined_data_encoded.query(\"Profil=='Mentoré'\")\n",
    "    mentors_features =mentors_data.drop(columns=data_arg.columns)\n",
    "    mentorees_features =mentorees_data.drop(columns=data_arg.columns)\n",
    "    similarity_score = cosine_similarity(mentors_features,mentorees_features, dense_output=True) \n",
    "    return mentors_data, mentorees_data, similarity_score\n"
   ]
  },
  {
   "cell_type": "code",
   "execution_count": 35,
   "metadata": {},
   "outputs": [
    {
     "name": "stderr",
     "output_type": "stream",
     "text": [
      "c:\\Users\\ppnl189\\OneDrive - LA POSTE GROUPE\\Bureau\\HETIC\\projet intensif\\pi_env\\Lib\\site-packages\\sklearn\\preprocessing\\_encoders.py:975: FutureWarning: `sparse` was renamed to `sparse_output` in version 1.2 and will be removed in 1.4. `sparse_output` is ignored unless you leave `sparse` to its default value.\n",
      "  warnings.warn(\n"
     ]
    }
   ],
   "source": [
    "mtr_df, mte_df, mat = get_similarity_data(df)"
   ]
  },
  {
   "cell_type": "code",
   "execution_count": 36,
   "metadata": {},
   "outputs": [
    {
     "data": {
      "text/html": [
       "<div>\n",
       "<style scoped>\n",
       "    .dataframe tbody tr th:only-of-type {\n",
       "        vertical-align: middle;\n",
       "    }\n",
       "\n",
       "    .dataframe tbody tr th {\n",
       "        vertical-align: top;\n",
       "    }\n",
       "\n",
       "    .dataframe thead th {\n",
       "        text-align: right;\n",
       "    }\n",
       "</style>\n",
       "<table border=\"1\" class=\"dataframe\">\n",
       "  <thead>\n",
       "    <tr style=\"text-align: right;\">\n",
       "      <th></th>\n",
       "      <th>ID</th>\n",
       "      <th>Prénom</th>\n",
       "      <th>Nom</th>\n",
       "      <th>Domaines</th>\n",
       "      <th>Diplôme</th>\n",
       "      <th>Compétences</th>\n",
       "      <th>Objectifs</th>\n",
       "      <th>Profil</th>\n",
       "      <th>Métier</th>\n",
       "      <th>Années d'expérience</th>\n",
       "      <th>...</th>\n",
       "      <th>Diplôme_Master en Arts Numériques</th>\n",
       "      <th>Diplôme_Master en Finance</th>\n",
       "      <th>Diplôme_Master en Gestion</th>\n",
       "      <th>Diplôme_Master en Informatique</th>\n",
       "      <th>Diplôme_Master en Ingénierie</th>\n",
       "      <th>Diplôme_Master en Marketing</th>\n",
       "      <th>Diplôme_Master en Psychologie</th>\n",
       "      <th>Diplôme_Master en Pédagogie</th>\n",
       "      <th>Diplôme_Master en Ressources Humaines</th>\n",
       "      <th>Diplôme_Pharmacie</th>\n",
       "    </tr>\n",
       "  </thead>\n",
       "  <tbody>\n",
       "    <tr>\n",
       "      <th>0</th>\n",
       "      <td>MTR_1</td>\n",
       "      <td>Marc</td>\n",
       "      <td>Martin</td>\n",
       "      <td>Finance</td>\n",
       "      <td>MBA en Finance</td>\n",
       "      <td>Analyse financière</td>\n",
       "      <td>Devenir analyste financier senior</td>\n",
       "      <td>Mentor</td>\n",
       "      <td>Analyste financier</td>\n",
       "      <td>17</td>\n",
       "      <td>...</td>\n",
       "      <td>0.0</td>\n",
       "      <td>0.0</td>\n",
       "      <td>0.0</td>\n",
       "      <td>0.0</td>\n",
       "      <td>0.0</td>\n",
       "      <td>0.0</td>\n",
       "      <td>0.0</td>\n",
       "      <td>0.0</td>\n",
       "      <td>0.0</td>\n",
       "      <td>0.0</td>\n",
       "    </tr>\n",
       "    <tr>\n",
       "      <th>1</th>\n",
       "      <td>MTR_2</td>\n",
       "      <td>Antoine</td>\n",
       "      <td>Moreau</td>\n",
       "      <td>Médecine</td>\n",
       "      <td>Pharmacie</td>\n",
       "      <td>Chirurgie</td>\n",
       "      <td>Devenir spécialiste en chirurgie</td>\n",
       "      <td>Mentor</td>\n",
       "      <td>Médecin généraliste</td>\n",
       "      <td>9</td>\n",
       "      <td>...</td>\n",
       "      <td>0.0</td>\n",
       "      <td>0.0</td>\n",
       "      <td>0.0</td>\n",
       "      <td>0.0</td>\n",
       "      <td>0.0</td>\n",
       "      <td>0.0</td>\n",
       "      <td>0.0</td>\n",
       "      <td>0.0</td>\n",
       "      <td>0.0</td>\n",
       "      <td>1.0</td>\n",
       "    </tr>\n",
       "  </tbody>\n",
       "</table>\n",
       "<p>2 rows × 78 columns</p>\n",
       "</div>"
      ],
      "text/plain": [
       "      ID   Prénom     Nom  Domaines         Diplôme         Compétences  \\\n",
       "0  MTR_1     Marc  Martin   Finance  MBA en Finance  Analyse financière   \n",
       "1  MTR_2  Antoine  Moreau  Médecine       Pharmacie           Chirurgie   \n",
       "\n",
       "                           Objectifs  Profil               Métier  \\\n",
       "0  Devenir analyste financier senior  Mentor   Analyste financier   \n",
       "1   Devenir spécialiste en chirurgie  Mentor  Médecin généraliste   \n",
       "\n",
       "   Années d'expérience  ...  Diplôme_Master en Arts Numériques  \\\n",
       "0                   17  ...                                0.0   \n",
       "1                    9  ...                                0.0   \n",
       "\n",
       "  Diplôme_Master en Finance Diplôme_Master en Gestion  \\\n",
       "0                       0.0                       0.0   \n",
       "1                       0.0                       0.0   \n",
       "\n",
       "  Diplôme_Master en Informatique Diplôme_Master en Ingénierie  \\\n",
       "0                            0.0                          0.0   \n",
       "1                            0.0                          0.0   \n",
       "\n",
       "   Diplôme_Master en Marketing  Diplôme_Master en Psychologie  \\\n",
       "0                          0.0                            0.0   \n",
       "1                          0.0                            0.0   \n",
       "\n",
       "  Diplôme_Master en Pédagogie Diplôme_Master en Ressources Humaines  \\\n",
       "0                         0.0                                   0.0   \n",
       "1                         0.0                                   0.0   \n",
       "\n",
       "   Diplôme_Pharmacie  \n",
       "0                0.0  \n",
       "1                1.0  \n",
       "\n",
       "[2 rows x 78 columns]"
      ]
     },
     "execution_count": 36,
     "metadata": {},
     "output_type": "execute_result"
    }
   ],
   "source": [
    "mtr_df.head(2)"
   ]
  },
  {
   "cell_type": "code",
   "execution_count": 37,
   "metadata": {},
   "outputs": [
    {
     "data": {
      "text/plain": [
       "array([[0. , 0.5, 0. , ..., 0. , 0. , 0. ],\n",
       "       [0. , 0. , 0. , ..., 0.5, 0.5, 0. ],\n",
       "       [0. , 0. , 0.5, ..., 0. , 0. , 0. ],\n",
       "       ...,\n",
       "       [0. , 0. , 0. , ..., 0. , 0. , 0. ],\n",
       "       [0. , 0. , 0. , ..., 0. , 0. , 0. ],\n",
       "       [0. , 0. , 0. , ..., 0.5, 0.5, 0. ]])"
      ]
     },
     "execution_count": 37,
     "metadata": {},
     "output_type": "execute_result"
    }
   ],
   "source": [
    "mat"
   ]
  },
  {
   "cell_type": "code",
   "execution_count": 38,
   "metadata": {},
   "outputs": [],
   "source": [
    "# Définition des seuils pour l'évaluation\n",
    "def evaluate_score(score):\n",
    "    if score > 0.7:\n",
    "        return 'High'\n",
    "    elif 0.5 <= score <= 0.7:\n",
    "        return 'Middle'\n",
    "    else:\n",
    "        return 'Basse'"
   ]
  },
  {
   "cell_type": "markdown",
   "metadata": {},
   "source": [
    "#### fonction pour récupérer un dataset simple de matching"
   ]
  },
  {
   "cell_type": "code",
   "execution_count": 39,
   "metadata": {},
   "outputs": [],
   "source": [
    "\n",
    "def get_simple_matching_df(mentors_data,mentorees_data,similarities):\n",
    "    mentoré_list = []\n",
    "    mentor_idéal_list = []\n",
    "    score_list = []\n",
    "    mentor_id_list = []\n",
    "    mentee_id_list = []\n",
    "    mentor_diplome_list = []\n",
    "    mentee_diplome_list = []\n",
    "    eval_list = \n",
    "    \n",
    "    len_mentee_data = len(mentorees_data)\n",
    "    for i in range(len(mentors_data)):\n",
    "        for j in range(len(mentorees_data)):\n",
    "            mentor_idéal_list.append(mentors_data['Prénom'][i]+\" \"+mentors_data['Nom'][i])\n",
    "            mentoré_list.append(mentorees_data['Prénom'][len_mentee_data+j]+\" \"+mentorees_data['Nom'][len_mentee_data+j])\n",
    "            mentor_id_list.append(mentors_data['ID'][i])\n",
    "            mentee_id_list.append(mentorees_data['ID'][len_mentee_data+j])\n",
    "            mentor_diplome_list.append(mentors_data[\"Diplôme\"][i])\n",
    "            mentee_diplome_list.append(mentorees_data[\"Diplôme\"][j+len_mentee_data])\n",
    "            score_list.append((similarities[i][j]))\n",
    "            eval_list.append(evaluate_score(similarities[i][j]))\n",
    "    # Créez le DataFrame en utilisant les listes\n",
    "    resultat = pd.DataFrame({ \"Mentor\": mentor_idéal_list, \"Mentor_id\":mentor_id_list,\"Mentoré\": mentoré_list,\"Mentee_id\":mentee_id_list,\"Diplome_mentor\":mentor_diplome_list, \"Diplome_mentee\":mentee_diplome_list,\"Score\": score_list,\"Evaluation\":eval_list})\n",
    "    mat_score = pd.DataFrame(similarities, columns=mentorees_data[\"ID\"],index=mentors_data[\"ID\"])\n",
    "    return resultat.sort_values(by=\"Score\", ascending=False), mat_score\n"
   ]
  },
  {
   "cell_type": "code",
   "execution_count": 139,
   "metadata": {},
   "outputs": [
    {
     "data": {
      "text/html": [
       "<div>\n",
       "<style scoped>\n",
       "    .dataframe tbody tr th:only-of-type {\n",
       "        vertical-align: middle;\n",
       "    }\n",
       "\n",
       "    .dataframe tbody tr th {\n",
       "        vertical-align: top;\n",
       "    }\n",
       "\n",
       "    .dataframe thead th {\n",
       "        text-align: right;\n",
       "    }\n",
       "</style>\n",
       "<table border=\"1\" class=\"dataframe\">\n",
       "  <thead>\n",
       "    <tr style=\"text-align: right;\">\n",
       "      <th></th>\n",
       "      <th>Mentor</th>\n",
       "      <th>Mentor_id</th>\n",
       "      <th>Mentoré</th>\n",
       "      <th>Mentee_id</th>\n",
       "      <th>Diplome_mentor</th>\n",
       "      <th>Diplome_mentee</th>\n",
       "      <th>Score</th>\n",
       "      <th>Evaluation</th>\n",
       "    </tr>\n",
       "  </thead>\n",
       "  <tbody>\n",
       "    <tr>\n",
       "      <th>9467</th>\n",
       "      <td>Antoine Lefebvre</td>\n",
       "      <td>MTR_95</td>\n",
       "      <td>Laura Girard</td>\n",
       "      <td>MTE_68</td>\n",
       "      <td>BTS en Psychologie</td>\n",
       "      <td>BTS en Psychologie</td>\n",
       "      <td>0.666667</td>\n",
       "      <td>Middle</td>\n",
       "    </tr>\n",
       "    <tr>\n",
       "      <th>8839</th>\n",
       "      <td>Pierre Martin</td>\n",
       "      <td>MTR_89</td>\n",
       "      <td>Emilie Roussel</td>\n",
       "      <td>MTE_40</td>\n",
       "      <td>Certificat en Ressources Humaines</td>\n",
       "      <td>Certificat en Ressources Humaines</td>\n",
       "      <td>0.666667</td>\n",
       "      <td>Middle</td>\n",
       "    </tr>\n",
       "    <tr>\n",
       "      <th>4627</th>\n",
       "      <td>Laura Girard</td>\n",
       "      <td>MTR_47</td>\n",
       "      <td>Marc Girard</td>\n",
       "      <td>MTE_28</td>\n",
       "      <td>Licence en Ressources Humaines</td>\n",
       "      <td>Licence en Ressources Humaines</td>\n",
       "      <td>0.666667</td>\n",
       "      <td>Middle</td>\n",
       "    </tr>\n",
       "    <tr>\n",
       "      <th>2573</th>\n",
       "      <td>Marc Moreau</td>\n",
       "      <td>MTR_26</td>\n",
       "      <td>Julien Lambert</td>\n",
       "      <td>MTE_74</td>\n",
       "      <td>Licence en Marketing</td>\n",
       "      <td>Licence en Marketing</td>\n",
       "      <td>0.666667</td>\n",
       "      <td>Middle</td>\n",
       "    </tr>\n",
       "    <tr>\n",
       "      <th>5453</th>\n",
       "      <td>Marie Bertrand</td>\n",
       "      <td>MTR_55</td>\n",
       "      <td>Emilie Bertrand</td>\n",
       "      <td>MTE_54</td>\n",
       "      <td>Doctorat en Psychologie</td>\n",
       "      <td>Doctorat en Psychologie</td>\n",
       "      <td>0.666667</td>\n",
       "      <td>Middle</td>\n",
       "    </tr>\n",
       "  </tbody>\n",
       "</table>\n",
       "</div>"
      ],
      "text/plain": [
       "                Mentor Mentor_id          Mentoré Mentee_id  \\\n",
       "9467  Antoine Lefebvre    MTR_95     Laura Girard    MTE_68   \n",
       "8839     Pierre Martin    MTR_89   Emilie Roussel    MTE_40   \n",
       "4627      Laura Girard    MTR_47      Marc Girard    MTE_28   \n",
       "2573       Marc Moreau    MTR_26   Julien Lambert    MTE_74   \n",
       "5453    Marie Bertrand    MTR_55  Emilie Bertrand    MTE_54   \n",
       "\n",
       "                         Diplome_mentor                     Diplome_mentee  \\\n",
       "9467                 BTS en Psychologie                 BTS en Psychologie   \n",
       "8839  Certificat en Ressources Humaines  Certificat en Ressources Humaines   \n",
       "4627     Licence en Ressources Humaines     Licence en Ressources Humaines   \n",
       "2573               Licence en Marketing               Licence en Marketing   \n",
       "5453            Doctorat en Psychologie            Doctorat en Psychologie   \n",
       "\n",
       "         Score Evaluation  \n",
       "9467  0.666667     Middle  \n",
       "8839  0.666667     Middle  \n",
       "4627  0.666667     Middle  \n",
       "2573  0.666667     Middle  \n",
       "5453  0.666667     Middle  "
      ]
     },
     "execution_count": 139,
     "metadata": {},
     "output_type": "execute_result"
    }
   ],
   "source": [
    "simple_matching_df, simple_mat= get_simple_matching_df(mtr_df,mte_df,mat)\n",
    "simple_matching_df.head()"
   ]
  },
  {
   "cell_type": "code",
   "execution_count": 41,
   "metadata": {},
   "outputs": [],
   "source": [
    "feature = [\"Domaines\",\"Diplôme\",\"Compétences\",\"Objectifs\",\"Métier\",\"Localisation\",\"Langue parlée\",\"Disponibilité\",\"Description de la personnalité\",\"Université d'études\", \"Parcours Professionnel\"]"
   ]
  },
  {
   "cell_type": "markdown",
   "metadata": {},
   "source": [
    "#### Fonction pour récupérer un dataset complet de matching "
   ]
  },
  {
   "cell_type": "code",
   "execution_count": 134,
   "metadata": {},
   "outputs": [],
   "source": [
    "def get_full_matching_df(mtr_df, mte_df,mat_score,feature=[\"Domaines\",\"Diplôme\",\"Compétences\",\"Objectifs\",\"Métier\",\"ID\"]):\n",
    "    n_repeats = len(mte_df)\n",
    "    mtr_df_repeated = pd.concat([mtr_df[feature]] * n_repeats, ignore_index=True)\n",
    "    mte_df_repeated = pd.concat([mte_df[feature]] * len(mtr_df), ignore_index=True)\n",
    "    # Rename columns with prefixes\n",
    "    mtr_df_repeated.columns = [\"mtr_\" + col for col in mtr_df_repeated.columns]\n",
    "    mte_df_repeated.columns = [\"mte_\" + col for col in mte_df_repeated.columns]\n",
    "    scores =[]\n",
    "    get_score = scores.append\n",
    "    for i in range(len(mtr_df)):\n",
    "        for j in range(len(mte_df)):\n",
    "            get_score(mat_score[i][j])\n",
    "    # scores = [mat_score[i][j+len(mte_df)] for i in range(len(mtr_df)) for j in range(len(mte_df))]\n",
    "    eval_score = [evaluate_score(score) for score in scores]\n",
    "    # Combine the two DataFrames\n",
    "    res_data = pd.concat([mtr_df_repeated, mte_df_repeated], axis=1)\n",
    "    res_data[\"Score\"] = scores\n",
    "    res_data[\"eval_score\"] = eval_score\n",
    "    return res_data.sort_values(by=\"Score\",ascending=False)\n",
    "        "
   ]
  },
  {
   "cell_type": "code",
   "execution_count": 140,
   "metadata": {},
   "outputs": [
    {
     "data": {
      "text/html": [
       "<div>\n",
       "<style scoped>\n",
       "    .dataframe tbody tr th:only-of-type {\n",
       "        vertical-align: middle;\n",
       "    }\n",
       "\n",
       "    .dataframe tbody tr th {\n",
       "        vertical-align: top;\n",
       "    }\n",
       "\n",
       "    .dataframe thead th {\n",
       "        text-align: right;\n",
       "    }\n",
       "</style>\n",
       "<table border=\"1\" class=\"dataframe\">\n",
       "  <thead>\n",
       "    <tr style=\"text-align: right;\">\n",
       "      <th></th>\n",
       "      <th>mtr_Domaines</th>\n",
       "      <th>mtr_Diplôme</th>\n",
       "      <th>mtr_Compétences</th>\n",
       "      <th>mtr_Objectifs</th>\n",
       "      <th>mtr_Métier</th>\n",
       "      <th>mtr_ID</th>\n",
       "      <th>mte_Domaines</th>\n",
       "      <th>mte_Diplôme</th>\n",
       "      <th>mte_Compétences</th>\n",
       "      <th>mte_Objectifs</th>\n",
       "      <th>mte_Métier</th>\n",
       "      <th>mte_ID</th>\n",
       "      <th>Score</th>\n",
       "      <th>eval_score</th>\n",
       "    </tr>\n",
       "  </thead>\n",
       "  <tbody>\n",
       "    <tr>\n",
       "      <th>9467</th>\n",
       "      <td>Psychologie</td>\n",
       "      <td>Doctorat en Psychologie</td>\n",
       "      <td>Évaluation psychologique</td>\n",
       "      <td>Faire de la recherche en psychologie</td>\n",
       "      <td>Psychologue de l'enfance</td>\n",
       "      <td>MTR_68</td>\n",
       "      <td>Psychologie</td>\n",
       "      <td>BTS en Psychologie</td>\n",
       "      <td>Psychothérapie</td>\n",
       "      <td>Développer des compétences en conseil en orien...</td>\n",
       "      <td>Conseiller en orientation</td>\n",
       "      <td>MTE_68</td>\n",
       "      <td>0.666667</td>\n",
       "      <td>Middle</td>\n",
       "    </tr>\n",
       "    <tr>\n",
       "      <th>8839</th>\n",
       "      <td>Finance</td>\n",
       "      <td>BTS en Finance</td>\n",
       "      <td>Marchés financiers</td>\n",
       "      <td>Devenir analyste financier senior</td>\n",
       "      <td>Gestionnaire de portefeuille</td>\n",
       "      <td>MTR_40</td>\n",
       "      <td>Ressources Humaines</td>\n",
       "      <td>Certificat en Ressources Humaines</td>\n",
       "      <td>Relations de travail</td>\n",
       "      <td>Acquérir des compétences en recrutement</td>\n",
       "      <td>Responsable RH</td>\n",
       "      <td>MTE_40</td>\n",
       "      <td>0.666667</td>\n",
       "      <td>Middle</td>\n",
       "    </tr>\n",
       "    <tr>\n",
       "      <th>4627</th>\n",
       "      <td>Gestion</td>\n",
       "      <td>MBA en Gestion</td>\n",
       "      <td>Gestion financière</td>\n",
       "      <td>Devenir directeur général d'une grande entreprise</td>\n",
       "      <td>Contrôleur financier</td>\n",
       "      <td>MTR_28</td>\n",
       "      <td>Ressources Humaines</td>\n",
       "      <td>Licence en Ressources Humaines</td>\n",
       "      <td>Gestion des talents</td>\n",
       "      <td>Acquérir des compétences en recrutement</td>\n",
       "      <td>Formateur</td>\n",
       "      <td>MTE_28</td>\n",
       "      <td>0.666667</td>\n",
       "      <td>Middle</td>\n",
       "    </tr>\n",
       "    <tr>\n",
       "      <th>2573</th>\n",
       "      <td>Médecine</td>\n",
       "      <td>Internat en Médecine</td>\n",
       "      <td>Gynécologie</td>\n",
       "      <td>Devenir spécialiste en chirurgie</td>\n",
       "      <td>Pédiatre</td>\n",
       "      <td>MTR_74</td>\n",
       "      <td>Marketing</td>\n",
       "      <td>Licence en Marketing</td>\n",
       "      <td>Analyse de marché</td>\n",
       "      <td>Apprendre les bases du marketing</td>\n",
       "      <td>Responsable marketing</td>\n",
       "      <td>MTE_74</td>\n",
       "      <td>0.666667</td>\n",
       "      <td>Middle</td>\n",
       "    </tr>\n",
       "    <tr>\n",
       "      <th>5453</th>\n",
       "      <td>Marketing</td>\n",
       "      <td>BTS en Marketing</td>\n",
       "      <td>Publicité</td>\n",
       "      <td>Devenir responsable marketing stratégique</td>\n",
       "      <td>Responsable marketing</td>\n",
       "      <td>MTR_54</td>\n",
       "      <td>Psychologie</td>\n",
       "      <td>Doctorat en Psychologie</td>\n",
       "      <td>Psychothérapie</td>\n",
       "      <td>Développer des compétences en conseil en orien...</td>\n",
       "      <td>Psychologue scolaire</td>\n",
       "      <td>MTE_54</td>\n",
       "      <td>0.666667</td>\n",
       "      <td>Middle</td>\n",
       "    </tr>\n",
       "  </tbody>\n",
       "</table>\n",
       "</div>"
      ],
      "text/plain": [
       "     mtr_Domaines              mtr_Diplôme           mtr_Compétences  \\\n",
       "9467  Psychologie  Doctorat en Psychologie  Évaluation psychologique   \n",
       "8839      Finance           BTS en Finance        Marchés financiers   \n",
       "4627      Gestion           MBA en Gestion        Gestion financière   \n",
       "2573     Médecine     Internat en Médecine               Gynécologie   \n",
       "5453    Marketing         BTS en Marketing                 Publicité   \n",
       "\n",
       "                                          mtr_Objectifs  \\\n",
       "9467               Faire de la recherche en psychologie   \n",
       "8839                  Devenir analyste financier senior   \n",
       "4627  Devenir directeur général d'une grande entreprise   \n",
       "2573                   Devenir spécialiste en chirurgie   \n",
       "5453          Devenir responsable marketing stratégique   \n",
       "\n",
       "                        mtr_Métier  mtr_ID         mte_Domaines  \\\n",
       "9467      Psychologue de l'enfance  MTR_68          Psychologie   \n",
       "8839  Gestionnaire de portefeuille  MTR_40  Ressources Humaines   \n",
       "4627          Contrôleur financier  MTR_28  Ressources Humaines   \n",
       "2573                      Pédiatre  MTR_74            Marketing   \n",
       "5453         Responsable marketing  MTR_54          Psychologie   \n",
       "\n",
       "                            mte_Diplôme       mte_Compétences  \\\n",
       "9467                 BTS en Psychologie        Psychothérapie   \n",
       "8839  Certificat en Ressources Humaines  Relations de travail   \n",
       "4627     Licence en Ressources Humaines   Gestion des talents   \n",
       "2573               Licence en Marketing     Analyse de marché   \n",
       "5453            Doctorat en Psychologie        Psychothérapie   \n",
       "\n",
       "                                          mte_Objectifs  \\\n",
       "9467  Développer des compétences en conseil en orien...   \n",
       "8839            Acquérir des compétences en recrutement   \n",
       "4627            Acquérir des compétences en recrutement   \n",
       "2573                   Apprendre les bases du marketing   \n",
       "5453  Développer des compétences en conseil en orien...   \n",
       "\n",
       "                     mte_Métier  mte_ID     Score eval_score  \n",
       "9467  Conseiller en orientation  MTE_68  0.666667     Middle  \n",
       "8839             Responsable RH  MTE_40  0.666667     Middle  \n",
       "4627                  Formateur  MTE_28  0.666667     Middle  \n",
       "2573      Responsable marketing  MTE_74  0.666667     Middle  \n",
       "5453       Psychologue scolaire  MTE_54  0.666667     Middle  "
      ]
     },
     "execution_count": 140,
     "metadata": {},
     "output_type": "execute_result"
    }
   ],
   "source": [
    "full_matching_res= get_full_matching_df(mtr_df,mte_df, mat)\n",
    "full_matching_res.head()"
   ]
  },
  {
   "cell_type": "markdown",
   "metadata": {},
   "source": [
    "### Sauvegarde des datasets"
   ]
  },
  {
   "cell_type": "code",
   "execution_count": 47,
   "metadata": {},
   "outputs": [],
   "source": [
    "# full_matching_res.to_csv(\"full_mentor_mentee_matching_df.csv\")\n",
    "# simple_matching_df.to_csv(\"simple_mentor_mentee_matching_df.csv\")\n",
    "# simple_mat.to_csv(\"pairwise_matching_score.csv\")"
   ]
  },
  {
   "cell_type": "markdown",
   "metadata": {},
   "source": [
    "### Prédiction du score de matching "
   ]
  },
  {
   "cell_type": "code",
   "execution_count": 51,
   "metadata": {},
   "outputs": [],
   "source": [
    "from sklearn.ensemble import RandomForestRegressor\n",
    "from sklearn.ensemble import GradientBoostingRegressor\n",
    "from sklearn.linear_model import LinearRegression\n",
    "from sklearn.model_selection import train_test_split\n",
    "from sklearn.metrics import mean_absolute_percentage_error\n",
    "from sklearn.preprocessing import OrdinalEncoder, LabelEncoder"
   ]
  },
  {
   "cell_type": "code",
   "execution_count": 66,
   "metadata": {},
   "outputs": [],
   "source": [
    "mte_feat = ['mte_Domaines','mte_Diplôme','mte_Compétences','mte_Objectifs','mte_Métier']"
   ]
  },
  {
   "cell_type": "code",
   "execution_count": 223,
   "metadata": {},
   "outputs": [
    {
     "data": {
      "text/plain": [
       "<5x3125 sparse matrix of type '<class 'numpy.float64'>'\n",
       "\twith 3141 stored elements in Compressed Sparse Row format>"
      ]
     },
     "execution_count": 223,
     "metadata": {},
     "output_type": "execute_result"
    }
   ],
   "source": []
  },
  {
   "cell_type": "code",
   "execution_count": 222,
   "metadata": {},
   "outputs": [
    {
     "data": {
      "text/plain": [
       "(10000, 14)"
      ]
     },
     "execution_count": 222,
     "metadata": {},
     "output_type": "execute_result"
    }
   ],
   "source": [
    "full_matching_res.shape"
   ]
  },
  {
   "cell_type": "code",
   "execution_count": 221,
   "metadata": {},
   "outputs": [],
   "source": [
    "X= full_matching_res[mte_feat]\n",
    "y = full_matching_res[\"Score\"]"
   ]
  },
  {
   "cell_type": "code",
   "execution_count": 181,
   "metadata": {},
   "outputs": [
    {
     "data": {
      "text/plain": [
       "(10000,)"
      ]
     },
     "execution_count": 181,
     "metadata": {},
     "output_type": "execute_result"
    }
   ],
   "source": [
    "y.shape"
   ]
  },
  {
   "cell_type": "markdown",
   "metadata": {},
   "source": [
    "#### Fonctions \n",
    "    - prétraitement des données \n",
    "    - récupération des données saisies par l'utlisateur"
   ]
  },
  {
   "cell_type": "code",
   "execution_count": 224,
   "metadata": {},
   "outputs": [],
   "source": [
    "\n",
    "\n",
    "\n",
    "def process_data(user_inp_df): \n",
    "    oh =OrdinalEncoder()\n",
    "    x_encoded = oh.fit_transform(user_inp_df)\n",
    "    return x_encoded, oh\n",
    "\n",
    "def get_user_input(feat =[\"Domaines\",\"Diplôme\",\"Compétences\",\"Objectifs\",\"Métier\"]):\n",
    "    user_input = {k:[input(f\"Please Enter {k}\")] for  k in feat}\n",
    "    return pd.DataFrame(user_input)"
   ]
  },
  {
   "cell_type": "markdown",
   "metadata": {},
   "source": [
    "#### Entrainement de modèles "
   ]
  },
  {
   "cell_type": "code",
   "execution_count": 217,
   "metadata": {},
   "outputs": [],
   "source": [
    "def fit_model(x, y, model_name=\"rF\"):\n",
    "    algo_dict ={\"rF\":RandomForestRegressor(),\"gRb\":GradientBoostingRegressor(),\"lr\":LinearRegression()}\n",
    "    xtrain, xtest, ytrain,ytest = train_test_split(x,y,test_size=0.20,random_state=42)\n",
    "    current_algo = algo_dict[model_name]\n",
    "    model= current_algo.fit(xtrain,ytrain)\n",
    "    pred = model.predict(xtest)\n",
    "    mape = np.round(mean_absolute_percentage_error(ytest,pred)*100,2)\n",
    "    print(f\" MAPE for {model_name} algorithm is {mape} %\")\n",
    "    return model, pred"
   ]
  },
  {
   "cell_type": "code",
   "execution_count": 225,
   "metadata": {},
   "outputs": [
    {
     "name": "stdout",
     "output_type": "stream",
     "text": [
      " MAPE for rF algorithm is 1.553700553518866e+16 %\n"
     ]
    }
   ],
   "source": [
    "encoded_x,_= process_data(X)\n",
    "model, pred = fit_model(encoded_x,y,\"rF\")"
   ]
  },
  {
   "cell_type": "code",
   "execution_count": 226,
   "metadata": {},
   "outputs": [
    {
     "data": {
      "text/plain": [
       "array([[ 7.,  6., 26., 18.,  7.],\n",
       "       [ 8., 13., 29.,  1., 28.],\n",
       "       [ 8., 33., 12.,  1., 15.],\n",
       "       ...,\n",
       "       [ 5., 10.,  8., 11., 30.],\n",
       "       [ 8., 33., 12.,  1., 15.],\n",
       "       [ 4., 21., 15., 12., 21.]])"
      ]
     },
     "execution_count": 226,
     "metadata": {},
     "output_type": "execute_result"
    }
   ],
   "source": [
    "encoded_x"
   ]
  },
  {
   "cell_type": "markdown",
   "metadata": {},
   "source": [
    "#### Teste des modèles"
   ]
  },
  {
   "cell_type": "code",
   "execution_count": 201,
   "metadata": {},
   "outputs": [],
   "source": [
    "test_df = pd.read_csv(\"dataset_mentoring_100_domains_coherent.csv\")"
   ]
  },
  {
   "cell_type": "code",
   "execution_count": 202,
   "metadata": {},
   "outputs": [
    {
     "data": {
      "text/plain": [
       "array([[1.        , 0.16326531, 0.97435897, 0.41463415, 0.41025641],\n",
       "       [0.44444444, 0.34693878, 0.51282051, 0.6097561 , 0.64102564],\n",
       "       [0.55555556, 0.10204082, 0.76923077, 0.2195122 , 0.92307692],\n",
       "       ...,\n",
       "       [0.33333333, 0.67346939, 0.        , 0.97560976, 0.35897436],\n",
       "       [0.88888889, 0.28571429, 0.38461538, 0.85365854, 0.43589744],\n",
       "       [0.22222222, 0.85714286, 0.41025641, 0.92682927, 0.1025641 ]])"
      ]
     },
     "execution_count": 202,
     "metadata": {},
     "output_type": "execute_result"
    }
   ],
   "source": [
    "test_df_res = test_df[[\"Domaines\",\"Diplôme\",\"Compétences\",\"Objectifs\",\"Métier\"]]\n",
    "test_processed,_= process_data(test_df_res)\n",
    "test_processed"
   ]
  },
  {
   "cell_type": "code",
   "execution_count": 205,
   "metadata": {},
   "outputs": [
    {
     "data": {
      "text/plain": [
       "array([0.03823811, 0.03174308, 0.04354503, ..., 0.03264697, 0.04124312,\n",
       "       0.02548212])"
      ]
     },
     "execution_count": 205,
     "metadata": {},
     "output_type": "execute_result"
    }
   ],
   "source": [
    "res = model.predict(test_processed)\n",
    "res"
   ]
  },
  {
   "cell_type": "markdown",
   "metadata": {},
   "source": [
    "### Teste avec des nouvelles données d'entrée en live"
   ]
  },
  {
   "cell_type": "code",
   "execution_count": 81,
   "metadata": {},
   "outputs": [],
   "source": [
    "user_input_df = get_user_input()"
   ]
  },
  {
   "cell_type": "code",
   "execution_count": 82,
   "metadata": {},
   "outputs": [
    {
     "data": {
      "text/html": [
       "<div>\n",
       "<style scoped>\n",
       "    .dataframe tbody tr th:only-of-type {\n",
       "        vertical-align: middle;\n",
       "    }\n",
       "\n",
       "    .dataframe tbody tr th {\n",
       "        vertical-align: top;\n",
       "    }\n",
       "\n",
       "    .dataframe thead th {\n",
       "        text-align: right;\n",
       "    }\n",
       "</style>\n",
       "<table border=\"1\" class=\"dataframe\">\n",
       "  <thead>\n",
       "    <tr style=\"text-align: right;\">\n",
       "      <th></th>\n",
       "      <th>Domaines</th>\n",
       "      <th>Diplôme</th>\n",
       "      <th>Compétences</th>\n",
       "      <th>Objectifs</th>\n",
       "      <th>Métier</th>\n",
       "    </tr>\n",
       "  </thead>\n",
       "  <tbody>\n",
       "    <tr>\n",
       "      <th>0</th>\n",
       "      <td>Maths</td>\n",
       "      <td>Licence</td>\n",
       "      <td>Analyse</td>\n",
       "      <td>Devenir Data Scientist</td>\n",
       "      <td>Enseignant</td>\n",
       "    </tr>\n",
       "  </tbody>\n",
       "</table>\n",
       "</div>"
      ],
      "text/plain": [
       "  Domaines  Diplôme Compétences               Objectifs      Métier\n",
       "0    Maths  Licence     Analyse  Devenir Data Scientist  Enseignant"
      ]
     },
     "execution_count": 82,
     "metadata": {},
     "output_type": "execute_result"
    }
   ],
   "source": [
    "user_input_df"
   ]
  },
  {
   "cell_type": "code",
   "execution_count": 160,
   "metadata": {},
   "outputs": [
    {
     "data": {
      "text/plain": [
       "array([0.04782674])"
      ]
     },
     "execution_count": 160,
     "metadata": {},
     "output_type": "execute_result"
    }
   ],
   "source": [
    "model.predict(process_data(user_input_df)[0])"
   ]
  },
  {
   "cell_type": "code",
   "execution_count": 100,
   "metadata": {},
   "outputs": [],
   "source": [
    "current_feat =[\"Domaines\",\"Diplôme\",\"Profil\"]"
   ]
  },
  {
   "cell_type": "code",
   "execution_count": 99,
   "metadata": {},
   "outputs": [],
   "source": [
    "\n",
    "def add_new_mentee_data(raw_df, feat):\n",
    "    new_mentee_data =  get_user_input(feat=feat)\n",
    "    # new_mentee_data.index[-1]= new_mentee_data.index[-1]+1\n",
    "    id_number  = int(raw_df.query(\"Profil=='Mentoré'\")[\"ID\"].iloc[-1].split(\"_\")[1])+1\n",
    "    new_mentee_data[\"ID\"]=[\"MTE_\"+str(id_number)]\n",
    "    # new_mentee_data.reset_index(drop=True, inplace=True)\n",
    "    res_df =pd.concat([raw_df,new_mentee_data], axis=0)\n",
    "    res_df.reset_index(inplace=True, drop=True)\n",
    "    return res_df"
   ]
  },
  {
   "cell_type": "code",
   "execution_count": 165,
   "metadata": {},
   "outputs": [],
   "source": [
    "updated_df = add_new_mentee_data(df,feat=current_feat)"
   ]
  },
  {
   "cell_type": "code",
   "execution_count": 230,
   "metadata": {},
   "outputs": [
    {
     "data": {
      "text/html": [
       "<div>\n",
       "<style scoped>\n",
       "    .dataframe tbody tr th:only-of-type {\n",
       "        vertical-align: middle;\n",
       "    }\n",
       "\n",
       "    .dataframe tbody tr th {\n",
       "        vertical-align: top;\n",
       "    }\n",
       "\n",
       "    .dataframe thead th {\n",
       "        text-align: right;\n",
       "    }\n",
       "</style>\n",
       "<table border=\"1\" class=\"dataframe\">\n",
       "  <thead>\n",
       "    <tr style=\"text-align: right;\">\n",
       "      <th></th>\n",
       "      <th>ID</th>\n",
       "      <th>Prénom</th>\n",
       "      <th>Nom</th>\n",
       "      <th>Domaines</th>\n",
       "      <th>Diplôme</th>\n",
       "      <th>Compétences</th>\n",
       "      <th>Objectifs</th>\n",
       "      <th>Profil</th>\n",
       "      <th>Métier</th>\n",
       "      <th>Années d'expérience</th>\n",
       "      <th>Notation</th>\n",
       "      <th>Évaluation</th>\n",
       "      <th>Description de la personnalité</th>\n",
       "      <th>Université d'études</th>\n",
       "      <th>Parcours Professionnel</th>\n",
       "      <th>Historiques d'interaction</th>\n",
       "      <th>Tarif horaire en euros</th>\n",
       "      <th>Langue parlée</th>\n",
       "      <th>Localisation</th>\n",
       "      <th>Disponibilité</th>\n",
       "    </tr>\n",
       "  </thead>\n",
       "  <tbody>\n",
       "    <tr>\n",
       "      <th>199</th>\n",
       "      <td>MTE_100</td>\n",
       "      <td>Antoine</td>\n",
       "      <td>Lambert</td>\n",
       "      <td>Ingénierie</td>\n",
       "      <td>Doctorat en Ingénierie</td>\n",
       "      <td>Ingénierie civile</td>\n",
       "      <td>Comprendre la conception logicielle</td>\n",
       "      <td>Mentoré</td>\n",
       "      <td>Ingénieur mécanique</td>\n",
       "      <td>0.0</td>\n",
       "      <td>NaN</td>\n",
       "      <td>NaN</td>\n",
       "      <td>Sociable et communicatif</td>\n",
       "      <td>Université de Marseille</td>\n",
       "      <td>En recherche d'un premier emploi en Ingénierie</td>\n",
       "      <td>18.0</td>\n",
       "      <td>NaN</td>\n",
       "      <td>Anglais</td>\n",
       "      <td>Lyon</td>\n",
       "      <td>1.0</td>\n",
       "    </tr>\n",
       "    <tr>\n",
       "      <th>200</th>\n",
       "      <td>MTE_101</td>\n",
       "      <td>NaN</td>\n",
       "      <td>NaN</td>\n",
       "      <td></td>\n",
       "      <td></td>\n",
       "      <td>NaN</td>\n",
       "      <td>NaN</td>\n",
       "      <td></td>\n",
       "      <td>NaN</td>\n",
       "      <td>NaN</td>\n",
       "      <td>NaN</td>\n",
       "      <td>NaN</td>\n",
       "      <td>NaN</td>\n",
       "      <td>NaN</td>\n",
       "      <td>NaN</td>\n",
       "      <td>NaN</td>\n",
       "      <td>NaN</td>\n",
       "      <td>NaN</td>\n",
       "      <td>NaN</td>\n",
       "      <td>NaN</td>\n",
       "    </tr>\n",
       "  </tbody>\n",
       "</table>\n",
       "</div>"
      ],
      "text/plain": [
       "          ID   Prénom      Nom    Domaines                 Diplôme  \\\n",
       "199  MTE_100  Antoine  Lambert  Ingénierie  Doctorat en Ingénierie   \n",
       "200  MTE_101      NaN      NaN                                       \n",
       "\n",
       "           Compétences                            Objectifs   Profil  \\\n",
       "199  Ingénierie civile  Comprendre la conception logicielle  Mentoré   \n",
       "200                NaN                                  NaN            \n",
       "\n",
       "                  Métier  Années d'expérience  Notation Évaluation  \\\n",
       "199  Ingénieur mécanique                  0.0       NaN        NaN   \n",
       "200                  NaN                  NaN       NaN        NaN   \n",
       "\n",
       "    Description de la personnalité      Université d'études  \\\n",
       "199       Sociable et communicatif  Université de Marseille   \n",
       "200                            NaN                      NaN   \n",
       "\n",
       "                             Parcours Professionnel  \\\n",
       "199  En recherche d'un premier emploi en Ingénierie   \n",
       "200                                             NaN   \n",
       "\n",
       "     Historiques d'interaction  Tarif horaire en euros Langue parlée  \\\n",
       "199                       18.0                     NaN       Anglais   \n",
       "200                        NaN                     NaN           NaN   \n",
       "\n",
       "    Localisation  Disponibilité  \n",
       "199         Lyon            1.0  \n",
       "200          NaN            NaN  "
      ]
     },
     "execution_count": 230,
     "metadata": {},
     "output_type": "execute_result"
    }
   ],
   "source": [
    "updated_df.tail(2)"
   ]
  },
  {
   "cell_type": "code",
   "execution_count": 114,
   "metadata": {},
   "outputs": [
    {
     "name": "stderr",
     "output_type": "stream",
     "text": [
      "c:\\Users\\ppnl189\\OneDrive - LA POSTE GROUPE\\Bureau\\HETIC\\projet intensif\\pi_env\\Lib\\site-packages\\sklearn\\preprocessing\\_encoders.py:975: FutureWarning: `sparse` was renamed to `sparse_output` in version 1.2 and will be removed in 1.4. `sparse_output` is ignored unless you leave `sparse` to its default value.\n",
      "  warnings.warn(\n"
     ]
    }
   ],
   "source": [
    "mtr_df, mte_df, mat= get_similarity_data(updated_df, feature=current_feat)"
   ]
  },
  {
   "cell_type": "code",
   "execution_count": 115,
   "metadata": {},
   "outputs": [
    {
     "data": {
      "text/plain": [
       "(100, 100)"
      ]
     },
     "execution_count": 115,
     "metadata": {},
     "output_type": "execute_result"
    }
   ],
   "source": [
    "mat.shape"
   ]
  },
  {
   "cell_type": "code",
   "execution_count": 122,
   "metadata": {},
   "outputs": [],
   "source": [
    "\n",
    "def recommand_best_mentor(df_arg,feat, top_n=3):\n",
    "    new_data = add_new_mentee_data(df_arg,feat=feat)\n",
    "    new_mentee_id=  new_data['ID'].iloc[-1]\n",
    "    mtr_df, mte_df, mat = get_similarity_data(new_data,feat)\n",
    "    res= get_full_matching_df(mtr_df,mte_df,mat)\n",
    "    top_n_mtr = res.query(\"mte_ID==@new_mentee_id\").nlargest(top_n,\"Score\")\n",
    "    return top_n_mtr\n",
    "    "
   ]
  },
  {
   "cell_type": "code",
   "execution_count": 231,
   "metadata": {},
   "outputs": [
    {
     "name": "stderr",
     "output_type": "stream",
     "text": [
      "c:\\Users\\ppnl189\\OneDrive - LA POSTE GROUPE\\Bureau\\HETIC\\projet intensif\\pi_env\\Lib\\site-packages\\sklearn\\preprocessing\\_encoders.py:975: FutureWarning: `sparse` was renamed to `sparse_output` in version 1.2 and will be removed in 1.4. `sparse_output` is ignored unless you leave `sparse` to its default value.\n",
      "  warnings.warn(\n"
     ]
    }
   ],
   "source": [
    "test = recommand_best_mentor(df, feat=current_feat)"
   ]
  },
  {
   "cell_type": "code",
   "execution_count": 232,
   "metadata": {},
   "outputs": [
    {
     "data": {
      "text/html": [
       "<div>\n",
       "<style scoped>\n",
       "    .dataframe tbody tr th:only-of-type {\n",
       "        vertical-align: middle;\n",
       "    }\n",
       "\n",
       "    .dataframe tbody tr th {\n",
       "        vertical-align: top;\n",
       "    }\n",
       "\n",
       "    .dataframe thead th {\n",
       "        text-align: right;\n",
       "    }\n",
       "</style>\n",
       "<table border=\"1\" class=\"dataframe\">\n",
       "  <thead>\n",
       "    <tr style=\"text-align: right;\">\n",
       "      <th></th>\n",
       "      <th>mtr_Domaines</th>\n",
       "      <th>mtr_Diplôme</th>\n",
       "      <th>mtr_Compétences</th>\n",
       "      <th>mtr_Objectifs</th>\n",
       "      <th>mtr_Métier</th>\n",
       "      <th>mtr_ID</th>\n",
       "      <th>mte_Domaines</th>\n",
       "      <th>mte_Diplôme</th>\n",
       "      <th>mte_Compétences</th>\n",
       "      <th>mte_Objectifs</th>\n",
       "      <th>mte_Métier</th>\n",
       "      <th>mte_ID</th>\n",
       "      <th>Score</th>\n",
       "      <th>eval_score</th>\n",
       "    </tr>\n",
       "  </thead>\n",
       "  <tbody>\n",
       "    <tr>\n",
       "      <th>6867</th>\n",
       "      <td>Psychologie</td>\n",
       "      <td>Doctorat en Psychologie</td>\n",
       "      <td>Évaluation psychologique</td>\n",
       "      <td>Faire de la recherche en psychologie</td>\n",
       "      <td>Psychologue de l'enfance</td>\n",
       "      <td>MTR_68</td>\n",
       "      <td>Maths</td>\n",
       "      <td>Master</td>\n",
       "      <td>NaN</td>\n",
       "      <td>NaN</td>\n",
       "      <td>NaN</td>\n",
       "      <td>MTE_101</td>\n",
       "      <td>0.0</td>\n",
       "      <td>Basse</td>\n",
       "    </tr>\n",
       "    <tr>\n",
       "      <th>6766</th>\n",
       "      <td>Gestion</td>\n",
       "      <td>Licence en Gestion</td>\n",
       "      <td>Gestion des ressources humaines</td>\n",
       "      <td>Gérer des projets internationaux</td>\n",
       "      <td>Contrôleur financier</td>\n",
       "      <td>MTR_67</td>\n",
       "      <td>Maths</td>\n",
       "      <td>Master</td>\n",
       "      <td>NaN</td>\n",
       "      <td>NaN</td>\n",
       "      <td>NaN</td>\n",
       "      <td>MTE_101</td>\n",
       "      <td>0.0</td>\n",
       "      <td>Basse</td>\n",
       "    </tr>\n",
       "    <tr>\n",
       "      <th>6665</th>\n",
       "      <td>Art</td>\n",
       "      <td>Licence en Arts Plastiques</td>\n",
       "      <td>Arts numériques</td>\n",
       "      <td>Devenir artiste renommé</td>\n",
       "      <td>Designer graphique</td>\n",
       "      <td>MTR_66</td>\n",
       "      <td>Maths</td>\n",
       "      <td>Master</td>\n",
       "      <td>NaN</td>\n",
       "      <td>NaN</td>\n",
       "      <td>NaN</td>\n",
       "      <td>MTE_101</td>\n",
       "      <td>0.0</td>\n",
       "      <td>Basse</td>\n",
       "    </tr>\n",
       "  </tbody>\n",
       "</table>\n",
       "</div>"
      ],
      "text/plain": [
       "     mtr_Domaines                 mtr_Diplôme  \\\n",
       "6867  Psychologie     Doctorat en Psychologie   \n",
       "6766      Gestion          Licence en Gestion   \n",
       "6665          Art  Licence en Arts Plastiques   \n",
       "\n",
       "                      mtr_Compétences                         mtr_Objectifs  \\\n",
       "6867         Évaluation psychologique  Faire de la recherche en psychologie   \n",
       "6766  Gestion des ressources humaines      Gérer des projets internationaux   \n",
       "6665                  Arts numériques               Devenir artiste renommé   \n",
       "\n",
       "                    mtr_Métier  mtr_ID mte_Domaines mte_Diplôme  \\\n",
       "6867  Psychologue de l'enfance  MTR_68        Maths      Master   \n",
       "6766      Contrôleur financier  MTR_67        Maths      Master   \n",
       "6665        Designer graphique  MTR_66        Maths      Master   \n",
       "\n",
       "     mte_Compétences mte_Objectifs mte_Métier   mte_ID  Score eval_score  \n",
       "6867             NaN           NaN        NaN  MTE_101    0.0      Basse  \n",
       "6766             NaN           NaN        NaN  MTE_101    0.0      Basse  \n",
       "6665             NaN           NaN        NaN  MTE_101    0.0      Basse  "
      ]
     },
     "execution_count": 232,
     "metadata": {},
     "output_type": "execute_result"
    }
   ],
   "source": [
    "test"
   ]
  },
  {
   "cell_type": "markdown",
   "metadata": {},
   "source": [
    "### Utilisation d'une approche basée sur le clustering préalable"
   ]
  },
  {
   "cell_type": "code",
   "execution_count": 237,
   "metadata": {},
   "outputs": [],
   "source": [
    "from sklearn.cluster import KMeans"
   ]
  },
  {
   "cell_type": "code",
   "execution_count": 249,
   "metadata": {},
   "outputs": [],
   "source": [
    "main_feat =[\"Domaines\",\"Diplôme\",\"Compétences\",\"Objectifs\",\"Métier\"]"
   ]
  },
  {
   "cell_type": "code",
   "execution_count": 253,
   "metadata": {},
   "outputs": [],
   "source": [
    "tfidf_vectorizer = TfidfVectorizer()\n",
    "df_work =df.copy()\n",
    "df_work['combined_text'] = df_work[main_feat].apply(lambda x: ' '.join(x), axis=1)\n",
    "tfidf_matrix = tfidf_vectorizer.fit_transform(df_work['combined_text'])"
   ]
  },
  {
   "cell_type": "markdown",
   "metadata": {},
   "source": [
    "#### Détermination du nombre optimal de cluster "
   ]
  },
  {
   "cell_type": "markdown",
   "metadata": {},
   "source": [
    "#### Elbow method"
   ]
  },
  {
   "cell_type": "code",
   "execution_count": 340,
   "metadata": {},
   "outputs": [
    {
     "data": {
      "text/plain": [
       "[<matplotlib.lines.Line2D at 0x2826de85bd0>]"
      ]
     },
     "execution_count": 340,
     "metadata": {},
     "output_type": "execute_result"
    },
    {
     "data": {
      "image/png": "[encoded data removed]",
      "text/plain": [
       "<Figure size 640x480 with 1 Axes>"
      ]
     },
     "metadata": {},
     "output_type": "display_data"
    }
   ],
   "source": [
    "from matplotlib import markers\n",
    "\n",
    "\n",
    "wcss  = []\n",
    "n_cluster = np.arange(1,20,step=1,dtype='int')\n",
    "add_score = wcss.append\n",
    "for n in n_cluster:\n",
    "    kmean_tmp = KMeans(n_clusters=n)\n",
    "    kmean_tmp.fit_predict(tfidf_matrix)\n",
    "    add_score(kmean_tmp.inertia_)\n",
    "plt.plot(n_cluster,wcss, marker=\"o\")    "
   ]
  },
  {
   "cell_type": "markdown",
   "metadata": {},
   "source": [
    "D'après cette méthode le nombre optimal de cluster est entre 7 et 10. \n",
    "\n",
    "Confirmons cela avec la méthode de Silhouette score "
   ]
  },
  {
   "cell_type": "markdown",
   "metadata": {},
   "source": [
    "#### Silhouette score "
   ]
  },
  {
   "cell_type": "code",
   "execution_count": 336,
   "metadata": {},
   "outputs": [],
   "source": [
    "from sklearn.metrics import silhouette_score"
   ]
  },
  {
   "cell_type": "code",
   "execution_count": 338,
   "metadata": {},
   "outputs": [
    {
     "name": "stderr",
     "output_type": "stream",
     "text": [
      "c:\\Users\\ppnl189\\OneDrive - LA POSTE GROUPE\\Bureau\\HETIC\\projet intensif\\pi_env\\Lib\\site-packages\\sklearn\\cluster\\_kmeans.py:1416: FutureWarning: The default value of `n_init` will change from 10 to 'auto' in 1.4. Set the value of `n_init` explicitly to suppress the warning\n",
      "  super()._check_params_vs_input(X, default_n_init=10)\n",
      "c:\\Users\\ppnl189\\OneDrive - LA POSTE GROUPE\\Bureau\\HETIC\\projet intensif\\pi_env\\Lib\\site-packages\\sklearn\\cluster\\_kmeans.py:1416: FutureWarning: The default value of `n_init` will change from 10 to 'auto' in 1.4. Set the value of `n_init` explicitly to suppress the warning\n",
      "  super()._check_params_vs_input(X, default_n_init=10)\n",
      "c:\\Users\\ppnl189\\OneDrive - LA POSTE GROUPE\\Bureau\\HETIC\\projet intensif\\pi_env\\Lib\\site-packages\\sklearn\\cluster\\_kmeans.py:1416: FutureWarning: The default value of `n_init` will change from 10 to 'auto' in 1.4. Set the value of `n_init` explicitly to suppress the warning\n",
      "  super()._check_params_vs_input(X, default_n_init=10)\n",
      "c:\\Users\\ppnl189\\OneDrive - LA POSTE GROUPE\\Bureau\\HETIC\\projet intensif\\pi_env\\Lib\\site-packages\\sklearn\\cluster\\_kmeans.py:1416: FutureWarning: The default value of `n_init` will change from 10 to 'auto' in 1.4. Set the value of `n_init` explicitly to suppress the warning\n",
      "  super()._check_params_vs_input(X, default_n_init=10)\n",
      "c:\\Users\\ppnl189\\OneDrive - LA POSTE GROUPE\\Bureau\\HETIC\\projet intensif\\pi_env\\Lib\\site-packages\\sklearn\\cluster\\_kmeans.py:1416: FutureWarning: The default value of `n_init` will change from 10 to 'auto' in 1.4. Set the value of `n_init` explicitly to suppress the warning\n",
      "  super()._check_params_vs_input(X, default_n_init=10)\n",
      "c:\\Users\\ppnl189\\OneDrive - LA POSTE GROUPE\\Bureau\\HETIC\\projet intensif\\pi_env\\Lib\\site-packages\\sklearn\\cluster\\_kmeans.py:1416: FutureWarning: The default value of `n_init` will change from 10 to 'auto' in 1.4. Set the value of `n_init` explicitly to suppress the warning\n",
      "  super()._check_params_vs_input(X, default_n_init=10)\n",
      "c:\\Users\\ppnl189\\OneDrive - LA POSTE GROUPE\\Bureau\\HETIC\\projet intensif\\pi_env\\Lib\\site-packages\\sklearn\\cluster\\_kmeans.py:1416: FutureWarning: The default value of `n_init` will change from 10 to 'auto' in 1.4. Set the value of `n_init` explicitly to suppress the warning\n",
      "  super()._check_params_vs_input(X, default_n_init=10)\n",
      "c:\\Users\\ppnl189\\OneDrive - LA POSTE GROUPE\\Bureau\\HETIC\\projet intensif\\pi_env\\Lib\\site-packages\\sklearn\\cluster\\_kmeans.py:1416: FutureWarning: The default value of `n_init` will change from 10 to 'auto' in 1.4. Set the value of `n_init` explicitly to suppress the warning\n",
      "  super()._check_params_vs_input(X, default_n_init=10)\n",
      "c:\\Users\\ppnl189\\OneDrive - LA POSTE GROUPE\\Bureau\\HETIC\\projet intensif\\pi_env\\Lib\\site-packages\\sklearn\\cluster\\_kmeans.py:1416: FutureWarning: The default value of `n_init` will change from 10 to 'auto' in 1.4. Set the value of `n_init` explicitly to suppress the warning\n",
      "  super()._check_params_vs_input(X, default_n_init=10)\n",
      "c:\\Users\\ppnl189\\OneDrive - LA POSTE GROUPE\\Bureau\\HETIC\\projet intensif\\pi_env\\Lib\\site-packages\\sklearn\\cluster\\_kmeans.py:1416: FutureWarning: The default value of `n_init` will change from 10 to 'auto' in 1.4. Set the value of `n_init` explicitly to suppress the warning\n",
      "  super()._check_params_vs_input(X, default_n_init=10)\n",
      "c:\\Users\\ppnl189\\OneDrive - LA POSTE GROUPE\\Bureau\\HETIC\\projet intensif\\pi_env\\Lib\\site-packages\\sklearn\\cluster\\_kmeans.py:1416: FutureWarning: The default value of `n_init` will change from 10 to 'auto' in 1.4. Set the value of `n_init` explicitly to suppress the warning\n",
      "  super()._check_params_vs_input(X, default_n_init=10)\n",
      "c:\\Users\\ppnl189\\OneDrive - LA POSTE GROUPE\\Bureau\\HETIC\\projet intensif\\pi_env\\Lib\\site-packages\\sklearn\\cluster\\_kmeans.py:1416: FutureWarning: The default value of `n_init` will change from 10 to 'auto' in 1.4. Set the value of `n_init` explicitly to suppress the warning\n",
      "  super()._check_params_vs_input(X, default_n_init=10)\n",
      "c:\\Users\\ppnl189\\OneDrive - LA POSTE GROUPE\\Bureau\\HETIC\\projet intensif\\pi_env\\Lib\\site-packages\\sklearn\\cluster\\_kmeans.py:1416: FutureWarning: The default value of `n_init` will change from 10 to 'auto' in 1.4. Set the value of `n_init` explicitly to suppress the warning\n",
      "  super()._check_params_vs_input(X, default_n_init=10)\n",
      "c:\\Users\\ppnl189\\OneDrive - LA POSTE GROUPE\\Bureau\\HETIC\\projet intensif\\pi_env\\Lib\\site-packages\\sklearn\\cluster\\_kmeans.py:1416: FutureWarning: The default value of `n_init` will change from 10 to 'auto' in 1.4. Set the value of `n_init` explicitly to suppress the warning\n",
      "  super()._check_params_vs_input(X, default_n_init=10)\n",
      "c:\\Users\\ppnl189\\OneDrive - LA POSTE GROUPE\\Bureau\\HETIC\\projet intensif\\pi_env\\Lib\\site-packages\\sklearn\\cluster\\_kmeans.py:1416: FutureWarning: The default value of `n_init` will change from 10 to 'auto' in 1.4. Set the value of `n_init` explicitly to suppress the warning\n",
      "  super()._check_params_vs_input(X, default_n_init=10)\n",
      "c:\\Users\\ppnl189\\OneDrive - LA POSTE GROUPE\\Bureau\\HETIC\\projet intensif\\pi_env\\Lib\\site-packages\\sklearn\\cluster\\_kmeans.py:1416: FutureWarning: The default value of `n_init` will change from 10 to 'auto' in 1.4. Set the value of `n_init` explicitly to suppress the warning\n",
      "  super()._check_params_vs_input(X, default_n_init=10)\n",
      "c:\\Users\\ppnl189\\OneDrive - LA POSTE GROUPE\\Bureau\\HETIC\\projet intensif\\pi_env\\Lib\\site-packages\\sklearn\\cluster\\_kmeans.py:1416: FutureWarning: The default value of `n_init` will change from 10 to 'auto' in 1.4. Set the value of `n_init` explicitly to suppress the warning\n",
      "  super()._check_params_vs_input(X, default_n_init=10)\n",
      "c:\\Users\\ppnl189\\OneDrive - LA POSTE GROUPE\\Bureau\\HETIC\\projet intensif\\pi_env\\Lib\\site-packages\\sklearn\\cluster\\_kmeans.py:1416: FutureWarning: The default value of `n_init` will change from 10 to 'auto' in 1.4. Set the value of `n_init` explicitly to suppress the warning\n",
      "  super()._check_params_vs_input(X, default_n_init=10)\n"
     ]
    },
    {
     "data": {
      "image/png": "[encoded data removed]",
      "text/plain": [
       "<Figure size 1000x600 with 1 Axes>"
      ]
     },
     "metadata": {},
     "output_type": "display_data"
    }
   ],
   "source": [
    "# Using the Silhouette Method to find the optimal number of clusters\n",
    "silhouette_scores = []\n",
    "K_range = range(2, 20)  # Start from 2 as silhouette score can't be computed for 1 cluster\n",
    "\n",
    "for k in K_range:\n",
    "    kmeans = KMeans(n_clusters=k, random_state=0)\n",
    "    cluster_labels = kmeans.fit_predict(tfidf_matrix)\n",
    "    silhouette_avg = silhouette_score(tfidf_matrix, cluster_labels)\n",
    "    silhouette_scores.append(silhouette_avg)\n",
    "\n",
    "# Plotting the results onto a line graph\n",
    "plt.figure(figsize=(10, 6))\n",
    "plt.plot(K_range, silhouette_scores, marker='o')\n",
    "plt.title('Silhouette Method For Optimal k')\n",
    "plt.xlabel('Number of clusters')\n",
    "plt.ylabel('Silhouette Score')\n",
    "plt.show()\n"
   ]
  },
  {
   "cell_type": "markdown",
   "metadata": {},
   "source": [
    "Comme le montre la courbe, le silhouette score est maximale pour 10 clusters. C'est donc le nombre optimal. \n",
    "Par la suite, nous fixerons k à 10. "
   ]
  },
  {
   "cell_type": "code",
   "execution_count": 341,
   "metadata": {},
   "outputs": [],
   "source": [
    "# Number of clusters can be determined using methods like the Elbow method\n",
    "number_of_clusters = 10\n",
    "kmeans = KMeans(n_clusters=number_of_clusters, random_state=0)\n",
    "# Fit KMeans on the TF-IDF matrix\n",
    "df_work['cluster'] = kmeans.fit_predict(tfidf_matrix)\n"
   ]
  },
  {
   "cell_type": "code",
   "execution_count": 342,
   "metadata": {},
   "outputs": [
    {
     "data": {
      "text/plain": [
       "0      7\n",
       "1      4\n",
       "2      3\n",
       "3      2\n",
       "4      2\n",
       "      ..\n",
       "195    4\n",
       "196    1\n",
       "197    4\n",
       "198    4\n",
       "199    1\n",
       "Name: cluster, Length: 200, dtype: int32"
      ]
     },
     "execution_count": 342,
     "metadata": {},
     "output_type": "execute_result"
    }
   ],
   "source": [
    "df_work[\"cluster\"]"
   ]
  },
  {
   "cell_type": "code",
   "execution_count": 343,
   "metadata": {},
   "outputs": [],
   "source": [
    "def recommend_mentors(mentee_profile, data, top_n=3):\n",
    "    # Transform mentee profile text to TF-IDF\n",
    "    mentee_tfidf = tfidf_vectorizer.transform([mentee_profile])\n",
    "\n",
    "    # Predict the cluster for the mentee\n",
    "    mentee_cluster = kmeans.predict(mentee_tfidf)\n",
    "\n",
    "    # Filter mentors in the same cluster\n",
    "    mentors_in_cluster = data[data['cluster'] == mentee_cluster[0]]\n",
    "\n",
    "    # Calculate similarity within the cluster\n",
    "    similarity_scores = cosine_similarity(tfidf_matrix[mentors_in_cluster.index], mentee_tfidf)\n",
    "\n",
    "    # Sort mentors by similarity score\n",
    "    mentors_in_cluster['similarity'] = similarity_scores.flatten()\n",
    "    mentors_in_cluster[\"Evaluation\"] = mentors_in_cluster['similarity'].apply(evaluate_score)\n",
    "    top_mentors = mentors_in_cluster.sort_values(by='similarity', ascending=False).head(top_n)\n",
    "\n",
    "    return top_mentors\n"
   ]
  },
  {
   "cell_type": "code",
   "execution_count": 344,
   "metadata": {},
   "outputs": [],
   "source": [
    "mentee_data = \"Je suis en Maths avec Master mon objectif est de devenir expert en marketing je parle en Anglais et j'habite à toulouse\""
   ]
  },
  {
   "cell_type": "code",
   "execution_count": 345,
   "metadata": {},
   "outputs": [],
   "source": [
    "mentee_tfidf = tfidf_vectorizer.transform([mentee_data])"
   ]
  },
  {
   "cell_type": "code",
   "execution_count": 346,
   "metadata": {},
   "outputs": [
    {
     "data": {
      "text/plain": [
       "array([2])"
      ]
     },
     "execution_count": 346,
     "metadata": {},
     "output_type": "execute_result"
    }
   ],
   "source": [
    "kmeans.predict(mentee_tfidf)"
   ]
  },
  {
   "cell_type": "code",
   "execution_count": 347,
   "metadata": {},
   "outputs": [
    {
     "name": "stderr",
     "output_type": "stream",
     "text": [
      "C:\\Users\\ppnl189\\AppData\\Local\\Temp\\ipykernel_880\\1463417560.py:15: SettingWithCopyWarning: \n",
      "A value is trying to be set on a copy of a slice from a DataFrame.\n",
      "Try using .loc[row_indexer,col_indexer] = value instead\n",
      "\n",
      "See the caveats in the documentation: https://pandas.pydata.org/pandas-docs/stable/user_guide/indexing.html#returning-a-view-versus-a-copy\n",
      "  mentors_in_cluster['similarity'] = similarity_scores.flatten()\n",
      "C:\\Users\\ppnl189\\AppData\\Local\\Temp\\ipykernel_880\\1463417560.py:16: SettingWithCopyWarning: \n",
      "A value is trying to be set on a copy of a slice from a DataFrame.\n",
      "Try using .loc[row_indexer,col_indexer] = value instead\n",
      "\n",
      "See the caveats in the documentation: https://pandas.pydata.org/pandas-docs/stable/user_guide/indexing.html#returning-a-view-versus-a-copy\n",
      "  mentors_in_cluster[\"Evaluation\"] = mentors_in_cluster['similarity'].apply(evaluate_score)\n"
     ]
    }
   ],
   "source": [
    "top_n = recommend_mentors(mentee_data,df_work)\n",
    "top_n =top_n[top_n[\"Profil\"]==\"Mentor\"]"
   ]
  },
  {
   "cell_type": "code",
   "execution_count": 348,
   "metadata": {},
   "outputs": [
    {
     "data": {
      "text/html": [
       "<div>\n",
       "<style scoped>\n",
       "    .dataframe tbody tr th:only-of-type {\n",
       "        vertical-align: middle;\n",
       "    }\n",
       "\n",
       "    .dataframe tbody tr th {\n",
       "        vertical-align: top;\n",
       "    }\n",
       "\n",
       "    .dataframe thead th {\n",
       "        text-align: right;\n",
       "    }\n",
       "</style>\n",
       "<table border=\"1\" class=\"dataframe\">\n",
       "  <thead>\n",
       "    <tr style=\"text-align: right;\">\n",
       "      <th></th>\n",
       "      <th>ID</th>\n",
       "      <th>Prénom</th>\n",
       "      <th>Nom</th>\n",
       "      <th>Domaines</th>\n",
       "      <th>Diplôme</th>\n",
       "      <th>Compétences</th>\n",
       "      <th>Objectifs</th>\n",
       "      <th>Profil</th>\n",
       "      <th>Métier</th>\n",
       "      <th>Années d'expérience</th>\n",
       "      <th>...</th>\n",
       "      <th>Parcours Professionnel</th>\n",
       "      <th>Historiques d'interaction</th>\n",
       "      <th>Tarif horaire en euros</th>\n",
       "      <th>Langue parlée</th>\n",
       "      <th>Localisation</th>\n",
       "      <th>Disponibilité</th>\n",
       "      <th>combined_text</th>\n",
       "      <th>cluster</th>\n",
       "      <th>similarity</th>\n",
       "      <th>Evaluation</th>\n",
       "    </tr>\n",
       "  </thead>\n",
       "  <tbody>\n",
       "    <tr>\n",
       "      <th>63</th>\n",
       "      <td>MTR_64</td>\n",
       "      <td>Marie</td>\n",
       "      <td>Roussel</td>\n",
       "      <td>Marketing</td>\n",
       "      <td>Master en Marketing</td>\n",
       "      <td>Publicité</td>\n",
       "      <td>Devenir responsable marketing stratégique</td>\n",
       "      <td>Mentor</td>\n",
       "      <td>Analyste de marché</td>\n",
       "      <td>14</td>\n",
       "      <td>...</td>\n",
       "      <td>Procter &amp; Gamble, McDonald's, Nike, Coca-Cola,...</td>\n",
       "      <td>1</td>\n",
       "      <td>45.0</td>\n",
       "      <td>Bilingue</td>\n",
       "      <td>Lyon</td>\n",
       "      <td>2</td>\n",
       "      <td>Marketing Master en Marketing Publicité Deveni...</td>\n",
       "      <td>2</td>\n",
       "      <td>0.521514</td>\n",
       "      <td>Middle</td>\n",
       "    </tr>\n",
       "  </tbody>\n",
       "</table>\n",
       "<p>1 rows × 24 columns</p>\n",
       "</div>"
      ],
      "text/plain": [
       "        ID Prénom      Nom   Domaines              Diplôme Compétences  \\\n",
       "63  MTR_64  Marie  Roussel  Marketing  Master en Marketing   Publicité   \n",
       "\n",
       "                                    Objectifs  Profil              Métier  \\\n",
       "63  Devenir responsable marketing stratégique  Mentor  Analyste de marché   \n",
       "\n",
       "    Années d'expérience  ...  \\\n",
       "63                   14  ...   \n",
       "\n",
       "                               Parcours Professionnel  \\\n",
       "63  Procter & Gamble, McDonald's, Nike, Coca-Cola,...   \n",
       "\n",
       "   Historiques d'interaction Tarif horaire en euros Langue parlée  \\\n",
       "63                         1                   45.0      Bilingue   \n",
       "\n",
       "   Localisation  Disponibilité  \\\n",
       "63         Lyon              2   \n",
       "\n",
       "                                        combined_text cluster similarity  \\\n",
       "63  Marketing Master en Marketing Publicité Deveni...       2   0.521514   \n",
       "\n",
       "    Evaluation  \n",
       "63      Middle  \n",
       "\n",
       "[1 rows x 24 columns]"
      ]
     },
     "execution_count": 348,
     "metadata": {},
     "output_type": "execute_result"
    }
   ],
   "source": [
    "top_n"
   ]
  }
 ],
 "metadata": {
  "kernelspec": {
   "display_name": "base",
   "language": "python",
   "name": "python3"
  },
  "language_info": {
   "codemirror_mode": {
    "name": "ipython",
    "version": 3
   },
   "file_extension": ".py",
   "mimetype": "text/x-python",
   "name": "python",
   "nbconvert_exporter": "python",
   "pygments_lexer": "ipython3",
   "version": "3.11.2"
  },
  "orig_nbformat": 4
 },
 "nbformat": 4,
 "nbformat_minor": 2
}
